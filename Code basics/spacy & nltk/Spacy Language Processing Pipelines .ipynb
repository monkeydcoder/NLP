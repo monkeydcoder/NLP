{
 "cells": [
  {
   "cell_type": "markdown",
   "id": "69027e01-d202-42e0-9d60-9f7cfb37daab",
   "metadata": {},
   "source": [
    "# Spacy Language Processing Pipelines Tutorial\n"
   ]
  },
  {
   "cell_type": "markdown",
   "id": "352c5feb-cfcc-43ca-bb58-4c8d26e263a8",
   "metadata": {},
   "source": [
    "<b>Blank nlp pipeline</b>\n"
   ]
  },
  {
   "cell_type": "code",
   "execution_count": 22,
   "id": "53b5e2fe-0c8b-486e-9c1f-3aaf5849b004",
   "metadata": {},
   "outputs": [
    {
     "name": "stdout",
     "output_type": "stream",
     "text": [
      "Captain\n",
      "america\n",
      "ate\n",
      "100\n",
      "$\n",
      "of\n",
      "samosa\n",
      ".\n",
      "Then\n",
      "he\n",
      "said\n",
      "I\n",
      "can\n",
      "do\n",
      "this\n",
      "all\n",
      "day\n",
      ".\n"
     ]
    }
   ],
   "source": [
    "import spacy\n",
    "\n",
    "nlp = spacy.blank(\"en\")\n",
    "\n",
    "doc = nlp(\"Captain america ate 100$ of samosa. Then he said I can do this all day.\")\n",
    "\n",
    "for token in doc:\n",
    "    print(token)"
   ]
  },
  {
   "cell_type": "code",
   "execution_count": 23,
   "id": "8f493595-cfad-40aa-8764-faf74fc3e5ed",
   "metadata": {},
   "outputs": [
    {
     "data": {
      "text/plain": [
       "[]"
      ]
     },
     "execution_count": 23,
     "metadata": {},
     "output_type": "execute_result"
    }
   ],
   "source": [
    "nlp.pipe_names"
   ]
  },
  {
   "cell_type": "markdown",
   "id": "ffcb3d19-b213-42e4-a044-9aa1f0b74025",
   "metadata": {},
   "source": [
    "<b>Download trained pipeline</b>\n",
    "\n",
    "To download trained pipeline use a command such as,\n",
    "\n",
    "python -m spacy download en_core_web_sm\n",
    "\n",
    "This downloads the small (sm) pipeline for english language\n",
    "\n",
    "Further instructions on : https://spacy.io/usage/models#quickstart"
   ]
  },
  {
   "cell_type": "code",
   "execution_count": 24,
   "id": "cdaec090-c19a-4746-85bc-dafe9810af19",
   "metadata": {},
   "outputs": [
    {
     "data": {
      "text/plain": [
       "['tok2vec', 'tagger', 'parser', 'attribute_ruler', 'lemmatizer', 'ner']"
      ]
     },
     "execution_count": 24,
     "metadata": {},
     "output_type": "execute_result"
    }
   ],
   "source": [
    "nlp = spacy.load(\"en_core_web_sm\")\n",
    "nlp.pipe_names"
   ]
  },
  {
   "cell_type": "code",
   "execution_count": 25,
   "id": "c1a68d4a-f40f-467c-9fcb-ee29736b1940",
   "metadata": {},
   "outputs": [
    {
     "data": {
      "text/plain": [
       "[('tok2vec', <spacy.pipeline.tok2vec.Tok2Vec at 0x14015ebd0>),\n",
       " ('tagger', <spacy.pipeline.tagger.Tagger at 0x14015df70>),\n",
       " ('parser', <spacy.pipeline.dep_parser.DependencyParser at 0x14069bd80>),\n",
       " ('attribute_ruler',\n",
       "  <spacy.pipeline.attributeruler.AttributeRuler at 0x14389b3d0>),\n",
       " ('lemmatizer', <spacy.lang.en.lemmatizer.EnglishLemmatizer at 0x143e239d0>),\n",
       " ('ner', <spacy.pipeline.ner.EntityRecognizer at 0x14069be60>)]"
      ]
     },
     "execution_count": 25,
     "metadata": {},
     "output_type": "execute_result"
    }
   ],
   "source": [
    "nlp.pipeline"
   ]
  },
  {
   "cell_type": "code",
   "execution_count": 28,
   "id": "0ca2e266-6dcb-478f-81a0-bccb4fcbe79b",
   "metadata": {},
   "outputs": [
    {
     "name": "stdout",
     "output_type": "stream",
     "text": [
      "Captain  |  proper noun  |  Captain\n",
      "america  |  proper noun  |  america\n",
      "ate  |  verb  |  eat\n",
      "100  |  numeral  |  100\n",
      "$  |  numeral  |  $\n",
      "of  |  adposition  |  of\n",
      "samosa  |  proper noun  |  samosa\n",
      ".  |  punctuation  |  .\n",
      "Then  |  adverb  |  then\n",
      "he  |  pronoun  |  he\n",
      "said  |  verb  |  say\n",
      "I  |  pronoun  |  I\n",
      "can  |  auxiliary  |  can\n",
      "do  |  verb  |  do\n",
      "this  |  pronoun  |  this\n",
      "all  |  determiner  |  all\n",
      "day  |  noun  |  day\n",
      ".  |  punctuation  |  .\n"
     ]
    }
   ],
   "source": [
    "doc = nlp(\"Captain america ate 100$ of samosa. Then he said I can do this all day.\")\n",
    "\n",
    "for token in doc:\n",
    "    print(token, \" | \", spacy.explain(token.pos_), \" | \", token.lemma_)"
   ]
  },
  {
   "cell_type": "markdown",
   "id": "7e45c0b8-ac27-4f48-b422-3d246efdef7a",
   "metadata": {},
   "source": [
    "<b>spacy.explain(token.pos_):</b> The explanation of the part of speech (POS) tag assigned to the token. The pos_ attribute of the token provides the POS tag, and spacy.explain() function gives a human-readable explanation of that tag.\n",
    "\n",
    "<b>token.lemma_: </b> The lemma of the token. The lemma is the base or dictionary form of a word."
   ]
  },
  {
   "cell_type": "markdown",
   "id": "b4be63ac-4197-44b8-a0ea-011591a6e51a",
   "metadata": {},
   "source": [
    "# Named Entity Recognition\n"
   ]
  },
  {
   "cell_type": "code",
   "execution_count": 37,
   "id": "2fd13590-8a2b-455e-87cc-f4c7a1901c82",
   "metadata": {},
   "outputs": [
    {
     "name": "stdout",
     "output_type": "stream",
     "text": [
      "Tesla Inc|| ORG\n",
      "$45 billion|| MONEY\n"
     ]
    }
   ],
   "source": [
    "doc = nlp(\"Tesla Inc is going to acquire twitter for $45 billion\")\n",
    "for ent in doc.ents:\n",
    "    print(f'{ent.text}|| {ent.label_}')"
   ]
  },
  {
   "cell_type": "markdown",
   "id": "d21a57b6-f51a-4ca4-9301-6f259e6b6270",
   "metadata": {},
   "source": [
    "\n",
    "<b>Entity Iteration:</b> The code then iterates through each named entity identified in the processed document (doc) using a for loop: for ent in doc.ents:\n",
    "\n",
    "Printing Entity Information: For each entity, the code prints out two pieces of information:\n",
    "\n",
    "<b>ent.text:</b> The actual text span of the identified entity.\n",
    "\n",
    "<b>ent.label_:</b> The label assigned to the entity. This label represents the type or category of the entity, such as PERSON, ORGANIZATION, DATE, MONEY, etc."
   ]
  },
  {
   "cell_type": "code",
   "execution_count": 41,
   "id": "d11ff7b1-a263-413a-9d41-9451f3b93276",
   "metadata": {},
   "outputs": [
    {
     "data": {
      "text/html": [
       "<span class=\"tex2jax_ignore\"><div class=\"entities\" style=\"line-height: 2.5; direction: ltr\">\n",
       "<mark class=\"entity\" style=\"background: #7aecec; padding: 0.45em 0.6em; margin: 0 0.25em; line-height: 1; border-radius: 0.35em;\">\n",
       "    Tesla Inc\n",
       "    <span style=\"font-size: 0.8em; font-weight: bold; line-height: 1; border-radius: 0.35em; vertical-align: middle; margin-left: 0.5rem\">ORG</span>\n",
       "</mark>\n",
       " is going to acquire twitter for \n",
       "<mark class=\"entity\" style=\"background: #e4e7d2; padding: 0.45em 0.6em; margin: 0 0.25em; line-height: 1; border-radius: 0.35em;\">\n",
       "    $45 billion\n",
       "    <span style=\"font-size: 0.8em; font-weight: bold; line-height: 1; border-radius: 0.35em; vertical-align: middle; margin-left: 0.5rem\">MONEY</span>\n",
       "</mark>\n",
       "</div></span>"
      ],
      "text/plain": [
       "<IPython.core.display.HTML object>"
      ]
     },
     "metadata": {},
     "output_type": "display_data"
    }
   ],
   "source": [
    "from spacy import displacy\n",
    "\n",
    "displacy.render(doc, style=\"ent\")"
   ]
  },
  {
   "cell_type": "markdown",
   "id": "c583ea73-80bd-468c-9732-53368f74fcc8",
   "metadata": {},
   "source": [
    "# <b>Adding a component to a blank pipeline</b>\n"
   ]
  },
  {
   "cell_type": "code",
   "execution_count": 45,
   "id": "2214d5b2-0ad6-47aa-9610-ab95464f4147",
   "metadata": {},
   "outputs": [
    {
     "data": {
      "text/plain": [
       "['ner']"
      ]
     },
     "execution_count": 45,
     "metadata": {},
     "output_type": "execute_result"
    }
   ],
   "source": [
    "nlp = spacy.blank(\"en\")\n",
    "nlp.add_pipe(\"ner\", source=source_nlp)\n",
    "nlp.pipe_names"
   ]
  },
  {
   "cell_type": "code",
   "execution_count": 46,
   "id": "e19773a3-e6e5-4fd0-9bcc-51bf1bc06cfc",
   "metadata": {},
   "outputs": [
    {
     "name": "stdout",
     "output_type": "stream",
     "text": [
      "Tesla Inc ORG\n",
      "$45 billion MONEY\n"
     ]
    }
   ],
   "source": [
    "doc = nlp(\"Tesla Inc is going to acquire twitter for $45 billion\")\n",
    "for ent in doc.ents:\n",
    "    print(ent.text, ent.label_)"
   ]
  }
 ],
 "metadata": {
  "kernelspec": {
   "display_name": "tfkernel",
   "language": "python",
   "name": "tfkernel"
  },
  "language_info": {
   "codemirror_mode": {
    "name": "ipython",
    "version": 3
   },
   "file_extension": ".py",
   "mimetype": "text/x-python",
   "name": "python",
   "nbconvert_exporter": "python",
   "pygments_lexer": "ipython3",
   "version": "3.11.5"
  }
 },
 "nbformat": 4,
 "nbformat_minor": 5
}
