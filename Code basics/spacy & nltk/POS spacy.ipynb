{
 "cells": [
  {
   "cell_type": "code",
   "execution_count": 30,
   "id": "60820b4a-465d-4be9-91ed-bab9fa9c4665",
   "metadata": {},
   "outputs": [],
   "source": [
    "import spacy"
   ]
  },
  {
   "cell_type": "markdown",
   "id": "1657d3c2-7114-4b92-a5e3-bddd4028af67",
   "metadata": {},
   "source": [
    "# POS tag"
   ]
  },
  {
   "cell_type": "code",
   "execution_count": 31,
   "id": "16f7b87c-cc6b-4c8e-bb0b-fca847414406",
   "metadata": {},
   "outputs": [
    {
     "name": "stdout",
     "output_type": "stream",
     "text": [
      "Elon | PROPN | proper noun\n",
      "flew | VERB | verb\n",
      "to | ADP | adposition\n",
      "mars | NOUN | noun\n",
      "yesterday | NOUN | noun\n",
      ". | PUNCT | punctuation\n",
      "He | PRON | pronoun\n",
      "carried | VERB | verb\n",
      "biryani | ADJ | adjective\n",
      "masala | NOUN | noun\n",
      "with | ADP | adposition\n",
      "him | PRON | pronoun\n"
     ]
    }
   ],
   "source": [
    "nlp = spacy.load(\"en_core_web_sm\")\n",
    "doc = nlp(\"Elon flew to mars yesterday. He carried biryani masala with him\")\n",
    "\n",
    "for token in doc:\n",
    "    print(token, \"|\", token.pos_, \"|\", spacy.explain(token.pos_))"
   ]
  },
  {
   "cell_type": "markdown",
   "id": "2d25dd0a-05bf-4d25-b184-039410afa839",
   "metadata": {},
   "source": [
    "You can check https://v2.spacy.io/api/annotation for the complete list of pos categories in spacy.\n",
    "\n"
   ]
  },
  {
   "cell_type": "code",
   "execution_count": 32,
   "id": "4360dfa5-27f3-44d0-b14c-569539e9e5cf",
   "metadata": {},
   "outputs": [
    {
     "name": "stdout",
     "output_type": "stream",
     "text": [
      "Wow | INTJ | interjection\n",
      "! | PUNCT | punctuation\n",
      "Dr. | PROPN | proper noun\n",
      "Strange | PROPN | proper noun\n",
      "made | VERB | verb\n",
      "265 | NUM | numeral\n",
      "million | NUM | numeral\n",
      "$ | NUM | numeral\n",
      "on | ADP | adposition\n",
      "the | DET | determiner\n",
      "very | ADV | adverb\n",
      "first | ADJ | adjective\n",
      "day | NOUN | noun\n"
     ]
    }
   ],
   "source": [
    "doc = nlp(\"Wow! Dr. Strange made 265 million $ on the very first day\")\n",
    "\n",
    "for token in doc:\n",
    "    print(token, \"|\", token.pos_, \"|\", spacy.explain(token.pos_))"
   ]
  },
  {
   "cell_type": "markdown",
   "id": "fb374137-7f3d-41c2-ad23-9220faa2e367",
   "metadata": {},
   "source": [
    "# Tags"
   ]
  },
  {
   "cell_type": "code",
   "execution_count": 33,
   "id": "c7a754a0-87d5-4e5d-9a17-40cb8c07b2da",
   "metadata": {},
   "outputs": [
    {
     "name": "stdout",
     "output_type": "stream",
     "text": [
      "Wow | INTJ | UH | interjection\n",
      "! | PUNCT | . | punctuation mark, sentence closer\n",
      "Dr. | PROPN | NNP | noun, proper singular\n",
      "Strange | PROPN | NNP | noun, proper singular\n",
      "made | VERB | VBD | verb, past tense\n",
      "265 | NUM | CD | cardinal number\n",
      "million | NUM | CD | cardinal number\n",
      "$ | NUM | CD | cardinal number\n",
      "on | ADP | IN | conjunction, subordinating or preposition\n",
      "the | DET | DT | determiner\n",
      "very | ADV | RB | adverb\n",
      "first | ADJ | JJ | adjective (English), other noun-modifier (Chinese)\n",
      "day | NOUN | NN | noun, singular or mass\n"
     ]
    }
   ],
   "source": [
    "doc = nlp(\"Wow! Dr. Strange made 265 million $ on the very first day\")\n",
    "\n",
    "for token in doc:\n",
    "    print(token, \"|\", token.pos_, \"|\", token.tag_, \"|\", spacy.explain(token.tag_))"
   ]
  },
  {
   "cell_type": "markdown",
   "id": "a1ae41c9-661f-4f73-a5f6-28d2cd39262a",
   "metadata": {},
   "source": [
    " <b> spacy.explain is a function which explain the input given to it </b>"
   ]
  },
  {
   "cell_type": "markdown",
   "id": "68153e5e-3a56-43b6-b67c-032d0e9d4203",
   "metadata": {},
   "source": [
    "# Removing all SPACE, PUNCT and X token from text\n"
   ]
  },
  {
   "cell_type": "code",
   "execution_count": 34,
   "id": "a64a1d2f-b13c-4009-9019-b254bed3b016",
   "metadata": {},
   "outputs": [
    {
     "name": "stdout",
     "output_type": "stream",
     "text": [
      "Microsoft | PROPN | proper noun\n",
      "Corp. | PROPN | proper noun\n",
      "today | NOUN | noun\n",
      "announced | VERB | verb\n",
      "the | DET | determiner\n",
      "following | VERB | verb\n",
      "results | NOUN | noun\n",
      "for | ADP | adposition\n",
      "the | DET | determiner\n",
      "quarter | NOUN | noun\n",
      "ended | VERB | verb\n",
      "December | PROPN | proper noun\n",
      "31 | NUM | numeral\n",
      "2021 | NUM | numeral\n",
      "as | SCONJ | subordinating conjunction\n",
      "compared | VERB | verb\n",
      "to | ADP | adposition\n",
      "the | DET | determiner\n",
      "corresponding | ADJ | adjective\n",
      "period | NOUN | noun\n",
      "of | ADP | adposition\n",
      "last | ADJ | adjective\n",
      "fiscal | ADJ | adjective\n",
      "year | NOUN | noun\n",
      "Revenue | NOUN | noun\n",
      "was | AUX | auxiliary\n",
      "$ | SYM | symbol\n",
      "51.7 | NUM | numeral\n",
      "billion | NUM | numeral\n",
      "and | CCONJ | coordinating conjunction\n",
      "increased | VERB | verb\n",
      "20 | NUM | numeral\n",
      "% | NOUN | noun\n",
      "Operating | VERB | verb\n",
      "income | NOUN | noun\n",
      "was | AUX | auxiliary\n",
      "$ | SYM | symbol\n",
      "22.2 | NUM | numeral\n",
      "billion | NUM | numeral\n",
      "and | CCONJ | coordinating conjunction\n",
      "increased | VERB | verb\n",
      "24 | NUM | numeral\n",
      "% | NOUN | noun\n",
      "Net | ADJ | adjective\n",
      "income | NOUN | noun\n",
      "was | AUX | auxiliary\n",
      "$ | SYM | symbol\n",
      "18.8 | NUM | numeral\n",
      "billion | NUM | numeral\n",
      "and | CCONJ | coordinating conjunction\n",
      "increased | VERB | verb\n",
      "21 | NUM | numeral\n",
      "% | NOUN | noun\n",
      "Diluted | VERB | verb\n",
      "earnings | NOUN | noun\n",
      "per | ADP | adposition\n",
      "share | NOUN | noun\n",
      "was | AUX | auxiliary\n",
      "$ | SYM | symbol\n",
      "2.48 | NUM | numeral\n",
      "and | CCONJ | coordinating conjunction\n",
      "increased | VERB | verb\n",
      "22 | NUM | numeral\n",
      "% | NOUN | noun\n",
      "Digital | PROPN | proper noun\n",
      "technology | NOUN | noun\n",
      "is | AUX | auxiliary\n",
      "the | DET | determiner\n",
      "most | ADV | adverb\n",
      "malleable | ADJ | adjective\n",
      "resource | NOUN | noun\n",
      "at | ADP | adposition\n",
      "the | DET | determiner\n",
      "world | NOUN | noun\n",
      "’s | PART | particle\n",
      "disposal | NOUN | noun\n",
      "to | PART | particle\n",
      "overcome | VERB | verb\n",
      "constraints | NOUN | noun\n",
      "and | CCONJ | coordinating conjunction\n",
      "reimagine | VERB | verb\n",
      "everyday | ADJ | adjective\n",
      "work | NOUN | noun\n",
      "and | CCONJ | coordinating conjunction\n",
      "life | NOUN | noun\n",
      "said | VERB | verb\n",
      "Satya | PROPN | proper noun\n",
      "Nadella | PROPN | proper noun\n",
      "chairman | NOUN | noun\n",
      "and | CCONJ | coordinating conjunction\n",
      "chief | ADJ | adjective\n",
      "executive | ADJ | adjective\n",
      "officer | NOUN | noun\n",
      "of | ADP | adposition\n",
      "Microsoft | PROPN | proper noun\n",
      "As | ADV | adverb\n",
      "tech | NOUN | noun\n",
      "as | ADP | adposition\n",
      "a | DET | determiner\n",
      "percentage | NOUN | noun\n",
      "of | ADP | adposition\n",
      "global | ADJ | adjective\n",
      "GDP | PROPN | proper noun\n",
      "continues | VERB | verb\n",
      "to | PART | particle\n",
      "increase | VERB | verb\n",
      "we | PRON | pronoun\n",
      "are | AUX | auxiliary\n",
      "innovating | VERB | verb\n",
      "and | CCONJ | coordinating conjunction\n",
      "investing | VERB | verb\n",
      "across | ADP | adposition\n",
      "diverse | ADJ | adjective\n",
      "and | CCONJ | coordinating conjunction\n",
      "growing | VERB | verb\n",
      "markets | NOUN | noun\n",
      "with | ADP | adposition\n",
      "a | DET | determiner\n",
      "common | ADJ | adjective\n",
      "underlying | VERB | verb\n",
      "technology | NOUN | noun\n",
      "stack | NOUN | noun\n",
      "and | CCONJ | coordinating conjunction\n",
      "an | DET | determiner\n",
      "operating | NOUN | noun\n",
      "model | NOUN | noun\n",
      "that | PRON | pronoun\n",
      "reinforces | VERB | verb\n",
      "a | DET | determiner\n",
      "common | ADJ | adjective\n",
      "strategy | NOUN | noun\n",
      "culture | NOUN | noun\n",
      "and | CCONJ | coordinating conjunction\n",
      "sense | NOUN | noun\n",
      "of | ADP | adposition\n",
      "purpose | NOUN | noun\n",
      "Solid | ADJ | adjective\n",
      "commercial | ADJ | adjective\n",
      "execution | NOUN | noun\n",
      "represented | VERB | verb\n",
      "by | ADP | adposition\n",
      "strong | ADJ | adjective\n",
      "bookings | NOUN | noun\n",
      "growth | NOUN | noun\n",
      "driven | VERB | verb\n",
      "by | ADP | adposition\n",
      "long | ADJ | adjective\n",
      "term | NOUN | noun\n",
      "Azure | ADJ | adjective\n",
      "commitments | NOUN | noun\n",
      "increased | VERB | verb\n",
      "Microsoft | PROPN | proper noun\n",
      "Cloud | PROPN | proper noun\n",
      "revenue | NOUN | noun\n",
      "to | ADP | adposition\n",
      "$ | SYM | symbol\n",
      "22.1 | NUM | numeral\n",
      "billion | NUM | numeral\n",
      "up | ADV | adverb\n",
      "32 | NUM | numeral\n",
      "% | NOUN | noun\n",
      "year | NOUN | noun\n",
      "over | ADP | adposition\n",
      "year | NOUN | noun\n",
      "said | VERB | verb\n",
      "Amy | PROPN | proper noun\n",
      "Hood | PROPN | proper noun\n",
      "executive | ADJ | adjective\n",
      "vice | NOUN | noun\n",
      "president | NOUN | noun\n",
      "and | CCONJ | coordinating conjunction\n",
      "chief | ADJ | adjective\n",
      "financial | ADJ | adjective\n",
      "officer | NOUN | noun\n",
      "of | ADP | adposition\n",
      "Microsoft | PROPN | proper noun\n"
     ]
    }
   ],
   "source": [
    "earnings_text=\"\"\"Microsoft Corp. today announced the following results for the quarter ended December 31, 2021, as compared to the corresponding period of last fiscal year:\n",
    "\n",
    "·         Revenue was $51.7 billion and increased 20%\n",
    "·         Operating income was $22.2 billion and increased 24%\n",
    "·         Net income was $18.8 billion and increased 21%\n",
    "·         Diluted earnings per share was $2.48 and increased 22%\n",
    "“Digital technology is the most malleable resource at the world’s disposal to overcome constraints and reimagine everyday work and life,” said Satya Nadella, chairman and chief executive officer of Microsoft. “As tech as a percentage of global GDP continues to increase, we are innovating and investing across diverse and growing markets, with a common underlying technology stack and an operating model that reinforces a common strategy, culture, and sense of purpose.”\n",
    "“Solid commercial execution, represented by strong bookings growth driven by long-term Azure commitments, increased Microsoft Cloud revenue to $22.1 billion, up 32% year over year” said Amy Hood, executive vice president and chief financial officer of Microsoft.\"\"\"\n",
    "\n",
    "doc = nlp(earnings_text)\n",
    "filtered_token = []\n",
    "for token in doc:\n",
    "    if token.pos_ not in [\"SPACE\", \"PUNCT\", \"X\"]:\n",
    "        filtered_token.append(token)\n",
    "\n",
    "filtered_token\n",
    "\n",
    "for token in filtered_token:\n",
    "    print(token, \"|\", token.pos_, \"|\", spacy.explain(token.pos_))"
   ]
  },
  {
   "cell_type": "code",
   "execution_count": 35,
   "id": "bcc0ec02-a054-4c9d-8078-f290501ce23e",
   "metadata": {},
   "outputs": [
    {
     "data": {
      "text/plain": [
       "{96: 13,\n",
       " 92: 46,\n",
       " 100: 24,\n",
       " 90: 9,\n",
       " 85: 16,\n",
       " 93: 16,\n",
       " 97: 27,\n",
       " 98: 1,\n",
       " 84: 20,\n",
       " 103: 10,\n",
       " 87: 6,\n",
       " 99: 5,\n",
       " 89: 12,\n",
       " 86: 3,\n",
       " 94: 3,\n",
       " 95: 2}"
      ]
     },
     "execution_count": 35,
     "metadata": {},
     "output_type": "execute_result"
    }
   ],
   "source": [
    "count = doc.count_by(spacy.attrs.POS)\n",
    "count"
   ]
  },
  {
   "cell_type": "code",
   "execution_count": 36,
   "id": "fdd2123b-881b-4be5-ac3a-c67942d9baf8",
   "metadata": {},
   "outputs": [
    {
     "data": {
      "text/plain": [
       "'PROPN'"
      ]
     },
     "execution_count": 36,
     "metadata": {},
     "output_type": "execute_result"
    }
   ],
   "source": [
    "doc.vocab[96].text"
   ]
  },
  {
   "cell_type": "code",
   "execution_count": 37,
   "id": "bcc42fa9-8b1b-4320-b7a9-aa1ab48d2368",
   "metadata": {},
   "outputs": [
    {
     "name": "stdout",
     "output_type": "stream",
     "text": [
      "PROPN | 13\n",
      "NOUN | 46\n",
      "VERB | 24\n",
      "DET | 9\n",
      "ADP | 16\n",
      "NUM | 16\n",
      "PUNCT | 27\n",
      "SCONJ | 1\n",
      "ADJ | 20\n",
      "SPACE | 10\n",
      "AUX | 6\n",
      "SYM | 5\n",
      "CCONJ | 12\n",
      "ADV | 3\n",
      "PART | 3\n",
      "PRON | 2\n"
     ]
    }
   ],
   "source": [
    "for k,v in count.items():\n",
    "    print(doc.vocab[k].text, \"|\",v)"
   ]
  },
  {
   "cell_type": "markdown",
   "id": "7c3f23e7-ee8a-49ae-b1f1-5d3a6d9d00dc",
   "metadata": {},
   "source": [
    "# Exercise & Solution"
   ]
  },
  {
   "cell_type": "markdown",
   "id": "6ff3f7ce-8292-4298-9f07-b901990dbc23",
   "metadata": {},
   "source": [
    "\n",
    "Extract all NOUN tokens from this story. You will have to read the file in python first to collect all the text and then \n",
    "\n",
    "extract NOUNs in a python list\n",
    "\n",
    "Extract all numbers (NUM POS type) in a python list\n",
    "\n",
    "Print a count of all POS tags in this story\n"
   ]
  },
  {
   "cell_type": "code",
   "execution_count": 38,
   "id": "da0ec8c1-caad-4613-8854-3bdef9e810c3",
   "metadata": {},
   "outputs": [],
   "source": [
    "text = '''Inflation rose again in April, continuing a climb that has pushed consumers to the brink and is threatening the economic expansion, the Bureau of Labor Statistics reported Wednesday.\n",
    "\n",
    "The consumer price index, a broad-based measure of prices for goods and services, increased 8.3% from a year ago, higher than the Dow Jones estimate for an 8.1% gain. That represented a slight ease from March’s peak but was still close to the highest level since the summer of 1982.\n",
    "\n",
    "Removing volatile food and energy prices, so-called core CPI still rose 6.2%, against expectations for a 6% gain, clouding hopes that inflation had peaked in March.\n",
    "\n",
    "The month-over-month gains also were higher than expectations — 0.3% on headline CPI versus the 0.2% estimate and a 0.6% increase for core, against the outlook for a 0.4% gain.\n",
    "\n",
    "The price gains also meant that workers continued to lose ground. Real wages adjusted for inflation decreased 0.1% on the month despite a nominal increase of 0.3% in average hourly earnings. Over the past year, real earnings have dropped 2.6% even though average hourly earnings are up 5.5%.\n",
    "\n",
    "Inflation has been the single biggest threat to a recovery that began early in the Covid pandemic and saw the economy in 2021 stage its biggest single-year growth level since 1984. Rising prices at the pump and in grocery stores have been one problem, but inflation has spread beyond those two areas into housing, auto sales and a host of other areas.\n",
    "\n",
    "Federal Reserve officials have responded to the problem with two interest rate hikes so far this year and pledges of more until inflation comes down to the central bank’s 2% goal. However, Wednesday’s data shows that the Fed has a big job ahead.\n",
    "\n",
    "Credits: cnbc.com'''\n",
    "\n",
    "doc = nlp(text)"
   ]
  },
  {
   "cell_type": "code",
   "execution_count": 49,
   "id": "64561fb2-23fd-45ca-bbf8-15392b5a531c",
   "metadata": {},
   "outputs": [],
   "source": [
    "noun_items = []\n",
    "\n",
    "for token in doc:\n",
    "    if token.pos_ in [\"NOUN\"]:\n",
    "        noun_items.append(token)"
   ]
  },
  {
   "cell_type": "code",
   "execution_count": 50,
   "id": "79077694-a1d4-40f0-89a7-5b090db525b4",
   "metadata": {},
   "outputs": [
    {
     "name": "stdout",
     "output_type": "stream",
     "text": [
      "Inflation | NOUN\n",
      "climb | NOUN\n",
      "consumers | NOUN\n",
      "brink | NOUN\n",
      "expansion | NOUN\n",
      "consumer | NOUN\n",
      "price | NOUN\n",
      "index | NOUN\n",
      "measure | NOUN\n",
      "prices | NOUN\n",
      "goods | NOUN\n",
      "services | NOUN\n",
      "% | NOUN\n",
      "year | NOUN\n",
      "estimate | NOUN\n",
      "% | NOUN\n",
      "gain | NOUN\n",
      "ease | NOUN\n",
      "peak | NOUN\n",
      "level | NOUN\n",
      "summer | NOUN\n",
      "food | NOUN\n",
      "energy | NOUN\n",
      "prices | NOUN\n",
      "core | NOUN\n",
      "% | NOUN\n",
      "expectations | NOUN\n",
      "% | NOUN\n",
      "gain | NOUN\n",
      "hopes | NOUN\n",
      "inflation | NOUN\n",
      "month | NOUN\n",
      "month | NOUN\n",
      "gains | NOUN\n",
      "expectations | NOUN\n",
      "% | NOUN\n",
      "headline | NOUN\n",
      "% | NOUN\n",
      "estimate | NOUN\n",
      "% | NOUN\n",
      "increase | NOUN\n",
      "core | NOUN\n",
      "outlook | NOUN\n",
      "% | NOUN\n",
      "gain | NOUN\n",
      "price | NOUN\n",
      "gains | NOUN\n",
      "workers | NOUN\n",
      "ground | NOUN\n",
      "wages | NOUN\n",
      "inflation | NOUN\n",
      "% | NOUN\n",
      "month | NOUN\n",
      "increase | NOUN\n",
      "% | NOUN\n",
      "earnings | NOUN\n",
      "year | NOUN\n",
      "earnings | NOUN\n",
      "% | NOUN\n",
      "earnings | NOUN\n",
      "% | NOUN\n",
      "Inflation | NOUN\n",
      "threat | NOUN\n",
      "recovery | NOUN\n",
      "pandemic | NOUN\n",
      "economy | NOUN\n",
      "stage | NOUN\n",
      "year | NOUN\n",
      "growth | NOUN\n",
      "level | NOUN\n",
      "prices | NOUN\n",
      "pump | NOUN\n",
      "grocery | NOUN\n",
      "stores | NOUN\n",
      "problem | NOUN\n",
      "inflation | NOUN\n",
      "areas | NOUN\n",
      "housing | NOUN\n",
      "auto | NOUN\n",
      "sales | NOUN\n",
      "host | NOUN\n",
      "areas | NOUN\n",
      "officials | NOUN\n",
      "problem | NOUN\n",
      "interest | NOUN\n",
      "rate | NOUN\n",
      "hikes | NOUN\n",
      "year | NOUN\n",
      "pledges | NOUN\n",
      "inflation | NOUN\n",
      "bank | NOUN\n",
      "% | NOUN\n",
      "goal | NOUN\n",
      "data | NOUN\n",
      "job | NOUN\n",
      "Credits | NOUN\n"
     ]
    }
   ],
   "source": [
    "for token in noun_items:\n",
    "    print(token, \"|\", token.pos_)"
   ]
  },
  {
   "cell_type": "code",
   "execution_count": 51,
   "id": "5257b366-41f9-4803-8091-bceaf863479c",
   "metadata": {},
   "outputs": [
    {
     "name": "stdout",
     "output_type": "stream",
     "text": [
      "96\n"
     ]
    }
   ],
   "source": [
    "print(len(noun_items))"
   ]
  },
  {
   "cell_type": "code",
   "execution_count": 52,
   "id": "8ca62aa5-63b2-4c86-8269-a7780ede93ae",
   "metadata": {},
   "outputs": [
    {
     "name": "stdout",
     "output_type": "stream",
     "text": [
      "8.3 | NUM\n",
      "8.1 | NUM\n",
      "1982 | NUM\n",
      "6.2 | NUM\n",
      "6 | NUM\n",
      "0.3 | NUM\n",
      "0.2 | NUM\n",
      "0.6 | NUM\n",
      "0.4 | NUM\n",
      "0.1 | NUM\n",
      "0.3 | NUM\n",
      "2.6 | NUM\n",
      "5.5 | NUM\n",
      "2021 | NUM\n",
      "1984 | NUM\n",
      "one | NUM\n",
      "two | NUM\n",
      "two | NUM\n",
      "2 | NUM\n"
     ]
    }
   ],
   "source": [
    "number_item = []\n",
    "\n",
    "for token in doc: \n",
    "    if token.pos_ in [\"NUM\"]:\n",
    "        number_item.append(token)\n",
    "\n",
    "for token in number_item:\n",
    "    print(token, \"|\", token.pos_)"
   ]
  },
  {
   "cell_type": "code",
   "execution_count": 53,
   "id": "46ea9156-47a2-4422-a4c2-3bfe989f946a",
   "metadata": {},
   "outputs": [
    {
     "name": "stdout",
     "output_type": "stream",
     "text": [
      "19\n"
     ]
    }
   ],
   "source": [
    "print(len(number_item))"
   ]
  },
  {
   "cell_type": "code",
   "execution_count": 60,
   "id": "978ed1dd-6b4b-4f14-bf84-05075918b110",
   "metadata": {},
   "outputs": [
    {
     "data": {
      "text/plain": [
       "{92: 96,\n",
       " 100: 27,\n",
       " 86: 15,\n",
       " 85: 39,\n",
       " 96: 16,\n",
       " 97: 32,\n",
       " 90: 34,\n",
       " 95: 4,\n",
       " 87: 13,\n",
       " 89: 10,\n",
       " 84: 23,\n",
       " 103: 7,\n",
       " 93: 19,\n",
       " 94: 4,\n",
       " 98: 8,\n",
       " 101: 1}"
      ]
     },
     "execution_count": 60,
     "metadata": {},
     "output_type": "execute_result"
    }
   ],
   "source": [
    "count = doc.count_by(spacy.attrs.POS)\n",
    "count"
   ]
  },
  {
   "cell_type": "code",
   "execution_count": 61,
   "id": "1a242253-3bae-433b-ae90-b7acb77e4972",
   "metadata": {},
   "outputs": [
    {
     "name": "stdout",
     "output_type": "stream",
     "text": [
      "NOUN | 96\n",
      "VERB | 27\n",
      "ADV | 15\n",
      "ADP | 39\n",
      "PROPN | 16\n",
      "PUNCT | 32\n",
      "DET | 34\n",
      "PRON | 4\n",
      "AUX | 13\n",
      "CCONJ | 10\n",
      "ADJ | 23\n",
      "SPACE | 7\n",
      "NUM | 19\n",
      "PART | 4\n",
      "SCONJ | 8\n",
      "X | 1\n"
     ]
    }
   ],
   "source": [
    "for k,v in count.items():\n",
    "    print(doc.vocab[k].text, \"|\",v)\n"
   ]
  }
 ],
 "metadata": {
  "kernelspec": {
   "display_name": "tfkernel",
   "language": "python",
   "name": "tfkernel"
  },
  "language_info": {
   "codemirror_mode": {
    "name": "ipython",
    "version": 3
   },
   "file_extension": ".py",
   "mimetype": "text/x-python",
   "name": "python",
   "nbconvert_exporter": "python",
   "pygments_lexer": "ipython3",
   "version": "3.11.5"
  }
 },
 "nbformat": 4,
 "nbformat_minor": 5
}
