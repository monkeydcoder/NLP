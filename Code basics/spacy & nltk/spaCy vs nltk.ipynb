{
 "cells": [
  {
   "cell_type": "markdown",
   "id": "6284fb4e-16c7-46f0-bdc9-d453006fc47b",
   "metadata": {},
   "source": [
    "# Spacy VS nltk"
   ]
  },
  {
   "cell_type": "code",
   "execution_count": 1,
   "id": "7d2194f6-549d-405a-89a9-b5e53480b2b7",
   "metadata": {},
   "outputs": [],
   "source": [
    "import spacy"
   ]
  },
  {
   "cell_type": "code",
   "execution_count": 8,
   "id": "3ff9a877-9667-4f37-b461-888d1d90cd98",
   "metadata": {},
   "outputs": [
    {
     "name": "stdout",
     "output_type": "stream",
     "text": [
      "Dr. vegapunk loves almonds.\n",
      "Luffy loves MEAT\n"
     ]
    }
   ],
   "source": [
    " nlp = spacy.load(\"en_core_web_sm\")\n",
    "\n",
    "doc = nlp(\"Dr. vegapunk loves almonds. Luffy loves MEAT\")\n",
    "\n",
    "for sentence in doc.sents:\n",
    "    print(sentence)"
   ]
  },
  {
   "cell_type": "code",
   "execution_count": 9,
   "id": "d5e5592a-e32f-46ec-95d7-008119b85eb0",
   "metadata": {},
   "outputs": [
    {
     "name": "stdout",
     "output_type": "stream",
     "text": [
      "Dr.\n",
      "vegapunk\n",
      "loves\n",
      "almonds\n",
      ".\n",
      "Luffy\n",
      "loves\n",
      "MEAT\n"
     ]
    }
   ],
   "source": [
    "for sentence in doc.sents:\n",
    "    for word in sentence:\n",
    "        print(word)"
   ]
  },
  {
   "cell_type": "code",
   "execution_count": 16,
   "id": "c1e31630-30b6-417c-9d4f-37086cb1edd2",
   "metadata": {},
   "outputs": [
    {
     "name": "stderr",
     "output_type": "stream",
     "text": [
      "[nltk_data] Downloading package punkt to /Users/satyam/nltk_data...\n",
      "[nltk_data]   Unzipping tokenizers/punkt.zip.\n"
     ]
    },
    {
     "data": {
      "text/plain": [
       "True"
      ]
     },
     "execution_count": 16,
     "metadata": {},
     "output_type": "execute_result"
    }
   ],
   "source": [
    "import nltk\n",
    "\n",
    "nltk.download('punkt')"
   ]
  },
  {
   "cell_type": "code",
   "execution_count": 17,
   "id": "b44afb0b-6589-4989-8372-20d6b9bbc4f8",
   "metadata": {},
   "outputs": [
    {
     "data": {
      "text/plain": [
       "['Dr. vegapunk loves almonds.', 'Luffy loves MEAT']"
      ]
     },
     "execution_count": 17,
     "metadata": {},
     "output_type": "execute_result"
    }
   ],
   "source": [
    "from nltk.tokenize import sent_tokenize\n",
    "\n",
    "sent_tokenize(\"Dr. vegapunk loves almonds. Luffy loves MEAT\")"
   ]
  },
  {
   "cell_type": "code",
   "execution_count": 18,
   "id": "1df78a2a-6616-466f-ba53-d6fa61754fdc",
   "metadata": {},
   "outputs": [
    {
     "data": {
      "text/plain": [
       "['Dr.', 'vegapunk', 'loves', 'almonds', '.', 'Luffy', 'loves', 'MEAT']"
      ]
     },
     "execution_count": 18,
     "metadata": {},
     "output_type": "execute_result"
    }
   ],
   "source": [
    "from nltk.tokenize import word_tokenize\n",
    "\n",
    "word_tokenize(\"Dr. vegapunk loves almonds. Luffy loves MEAT\")"
   ]
  },
  {
   "cell_type": "markdown",
   "id": "8d294eaf-c512-49e3-b3c2-b67c46202aba",
   "metadata": {},
   "source": [
    "# spaCy"
   ]
  },
  {
   "cell_type": "markdown",
   "id": "828edc2a-0b57-465e-af06-f7b62d622d53",
   "metadata": {},
   "source": [
    "Focus: Industrial-strength NLP library, optimized for speed and efficiency.\n",
    "\n",
    "Strengths:\n",
    "1) Pre-trained statistical models for various languages.\n",
    "2) Efficient tokenization, morphological analysis, dependency parsing, named entity recognition (NER), and more.\n",
    "3) Designed for real-world applications with large datasets."
   ]
  },
  {
   "cell_type": "markdown",
   "id": "c4ccb2dc-9fbf-4a47-b6bc-88ae8b0070ff",
   "metadata": {},
   "source": [
    "# NLTK"
   ]
  },
  {
   "cell_type": "markdown",
   "id": "22babce1-a25d-4b31-b9fb-4d8118400e14",
   "metadata": {},
   "source": [
    "Focus: Comprehensive suite of tools for NLP tasks, offering more granular control.\n",
    "                                   \n",
    "Strengths:\n",
    "1) Wide range of functionalities for text processing, classification, tokenization, stemming, lemmatization, parsing, etc.\n",
    "2) Extensive documentation and tutorials.\n",
    "3) Well-suited for research and educational purposes."
   ]
  },
  {
   "cell_type": "markdown",
   "id": "951c3d5a-ecf5-4fcb-aa84-d4aa81a9da4c",
   "metadata": {},
   "source": [
    "In essence:\n",
    "\n",
    "1) Choose spaCy for production-grade NLP tasks where speed and ease of use are crucial.\n",
    "2) Choose NLTK for research, education, or situations where you need more granular control over individual NLP steps."
   ]
  },
  {
   "cell_type": "code",
   "execution_count": null,
   "id": "1fa5580f-cb1a-402d-9a9f-54198724254e",
   "metadata": {},
   "outputs": [],
   "source": []
  }
 ],
 "metadata": {
  "kernelspec": {
   "display_name": "tfkernel",
   "language": "python",
   "name": "tfkernel"
  },
  "language_info": {
   "codemirror_mode": {
    "name": "ipython",
    "version": 3
   },
   "file_extension": ".py",
   "mimetype": "text/x-python",
   "name": "python",
   "nbconvert_exporter": "python",
   "pygments_lexer": "ipython3",
   "version": "3.11.5"
  }
 },
 "nbformat": 4,
 "nbformat_minor": 5
}
