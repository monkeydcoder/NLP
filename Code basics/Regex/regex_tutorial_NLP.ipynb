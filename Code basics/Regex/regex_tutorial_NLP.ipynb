{
 "cells": [
  {
   "cell_type": "markdown",
   "id": "bf4ac87b-6016-40eb-9d2a-af879859afaa",
   "metadata": {},
   "source": [
    "# NLP Tutorial: Regular Expressions\n"
   ]
  },
  {
   "cell_type": "markdown",
   "id": "61b4647f-f831-4a36-a4b0-8d16e15ee89f",
   "metadata": {},
   "source": [
    "(1) Regex in customer support\n",
    "\n",
    "Retrieve order number"
   ]
  },
  {
   "cell_type": "code",
   "execution_count": 19,
   "id": "f892e7c4-37b6-43e2-90be-f2b13b0129f2",
   "metadata": {},
   "outputs": [
    {
     "data": {
      "text/plain": [
       "['412889912']"
      ]
     },
     "execution_count": 19,
     "metadata": {},
     "output_type": "execute_result"
    }
   ],
   "source": [
    "import re\n",
    "\n",
    "chat1='codebasics: Hello, I am having an issue with my order # 412889912'\n",
    "\n",
    "pattern = 'order[^\\d]*(\\d*)'\n",
    "matches = re.findall(pattern, chat1)\n",
    "matches"
   ]
  },
  {
   "cell_type": "code",
   "execution_count": 20,
   "id": "2774ffc3-0d22-4792-b612-0134f5240509",
   "metadata": {},
   "outputs": [
    {
     "data": {
      "text/plain": [
       "['412889912']"
      ]
     },
     "execution_count": 20,
     "metadata": {},
     "output_type": "execute_result"
    }
   ],
   "source": [
    "chat2='codebasics: I have a problem with my order number 412889912'\n",
    "pattern = 'order[^\\d]*(\\d*)'\n",
    "matches = re.findall(pattern, chat2)\n",
    "matches"
   ]
  },
  {
   "cell_type": "code",
   "execution_count": 21,
   "id": "682b8c12-0d91-41a8-8346-f4d87708dcaf",
   "metadata": {},
   "outputs": [
    {
     "data": {
      "text/plain": [
       "['412889912']"
      ]
     },
     "execution_count": 21,
     "metadata": {},
     "output_type": "execute_result"
    }
   ],
   "source": [
    "chat3='codebasics: My order 412889912 is having an issue, I was charged 300$ when online it says 280$'\n",
    "pattern = 'order[^\\d]*(\\d*)'\n",
    "matches = re.findall(pattern, chat3)\n",
    "matches"
   ]
  },
  {
   "cell_type": "code",
   "execution_count": 22,
   "id": "dc44d7a2-838e-480a-80a7-452a2d678fff",
   "metadata": {},
   "outputs": [],
   "source": [
    "def get_pattern_match(pattern, text):\n",
    "    matches = re.findall(pattern, text)\n",
    "    if matches:\n",
    "        return matches[0]"
   ]
  },
  {
   "cell_type": "code",
   "execution_count": 23,
   "id": "7c8bb5e0-0ab8-4d59-a016-544f9242b3b9",
   "metadata": {},
   "outputs": [
    {
     "data": {
      "text/plain": [
       "'412889912'"
      ]
     },
     "execution_count": 23,
     "metadata": {},
     "output_type": "execute_result"
    }
   ],
   "source": [
    "get_pattern_match('order[^\\d]*(\\d*)', chat1)"
   ]
  },
  {
   "cell_type": "markdown",
   "id": "19e23407-fc3d-43fe-bab0-8aac0260afc2",
   "metadata": {},
   "source": [
    "# Retrieve email id and phone\n"
   ]
  },
  {
   "cell_type": "code",
   "execution_count": 38,
   "id": "57c4194c-0c38-4b96-bcaa-21a8e018da2a",
   "metadata": {},
   "outputs": [],
   "source": [
    "chat1 = 'codebasics: you ask lot of questions 😠  1235678912, abc@xyz.com'\n",
    "chat2 = 'codebasics: here it is: (123)-567-8912, a_b_c@xyz.com'\n",
    "chat3 = 'codebasics: yes, phone: 1235678912 email: abc@xyz.com'"
   ]
  },
  {
   "cell_type": "code",
   "execution_count": 39,
   "id": "af8d073f-8cb5-4695-92eb-84c1a5894ad7",
   "metadata": {},
   "outputs": [],
   "source": [
    "def get_email_match(pattern, text):\n",
    "    matches = re.findall(pattern, text)\n",
    "    if matches:\n",
    "        return matches[0]"
   ]
  },
  {
   "cell_type": "code",
   "execution_count": 54,
   "id": "8b87580b-0a00-4709-92f2-7c7510a3d8aa",
   "metadata": {},
   "outputs": [
    {
     "data": {
      "text/plain": [
       "'a_b_c@xyz.com'"
      ]
     },
     "execution_count": 54,
     "metadata": {},
     "output_type": "execute_result"
    }
   ],
   "source": [
    "get_pattern_match('[a-zA-z_0-9]*@[a-zA-z_0-9]*\\.[a-zA-z]*', chat2)"
   ]
  },
  {
   "cell_type": "code",
   "execution_count": 55,
   "id": "f56e4e45-bb56-4204-85e5-5c9421e9e8a0",
   "metadata": {},
   "outputs": [
    {
     "data": {
      "text/plain": [
       "'abc@xyz.com'"
      ]
     },
     "execution_count": 55,
     "metadata": {},
     "output_type": "execute_result"
    }
   ],
   "source": [
    "get_pattern_match('[a-zA-z_0-9]*@[a-zA-z_0-9]*\\.[a-zA-z]*', chat1)"
   ]
  },
  {
   "cell_type": "code",
   "execution_count": 56,
   "id": "d0d897d3-d5ad-4009-ac6e-e096ee946cd8",
   "metadata": {},
   "outputs": [
    {
     "data": {
      "text/plain": [
       "'abc@xyz.com'"
      ]
     },
     "execution_count": 56,
     "metadata": {},
     "output_type": "execute_result"
    }
   ],
   "source": [
    "get_pattern_match('[a-zA-z_0-9]*@[a-zA-z_0-9]*\\.[a-zA-z]*', chat3)"
   ]
  },
  {
   "cell_type": "markdown",
   "id": "d606ffb1-9074-4330-ba1a-aa885f4ddb2a",
   "metadata": {},
   "source": [
    "# -----Phone number-----"
   ]
  },
  {
   "cell_type": "code",
   "execution_count": 51,
   "id": "ab1c2e00-7213-4bb4-93e2-dfa7eee9521d",
   "metadata": {},
   "outputs": [
    {
     "data": {
      "text/plain": [
       "'1235678912'"
      ]
     },
     "execution_count": 51,
     "metadata": {},
     "output_type": "execute_result"
    }
   ],
   "source": [
    "get_pattern_match('\\d{10}|\\(\\d{3}\\)-\\d{3}-\\d{4}', chat1)"
   ]
  },
  {
   "cell_type": "code",
   "execution_count": 52,
   "id": "2b7bfe56-5852-4231-815b-354d34fd3aff",
   "metadata": {},
   "outputs": [
    {
     "data": {
      "text/plain": [
       "'(123)-567-8912'"
      ]
     },
     "execution_count": 52,
     "metadata": {},
     "output_type": "execute_result"
    }
   ],
   "source": [
    "get_pattern_match('\\d{10}|\\(\\d{3}\\)-\\d{3}-\\d{4}', chat2)"
   ]
  },
  {
   "cell_type": "code",
   "execution_count": 53,
   "id": "10df66f3-a092-4e7b-bf87-3f63278e7711",
   "metadata": {},
   "outputs": [
    {
     "data": {
      "text/plain": [
       "'1235678912'"
      ]
     },
     "execution_count": 53,
     "metadata": {},
     "output_type": "execute_result"
    }
   ],
   "source": [
    "get_pattern_match('\\d{10}|\\(\\d{3}\\)-\\d{3}-\\d{4}', chat3)"
   ]
  },
  {
   "cell_type": "markdown",
   "id": "4ccc9410-6658-4e70-88d1-157ded0ac95f",
   "metadata": {},
   "source": [
    "# (2) Regex for Information Extraction\n"
   ]
  },
  {
   "cell_type": "code",
   "execution_count": 50,
   "id": "2239c41e-d21a-4a06-8dbb-e2da6e3d2110",
   "metadata": {},
   "outputs": [],
   "source": [
    "text='''\n",
    "Born\tElon Reeve Musk\n",
    "June 28, 1971 (age 50)\n",
    "Pretoria, Transvaal, South Africa\n",
    "Citizenship\t\n",
    "South Africa (1971–present)\n",
    "Canada (1971–present)\n",
    "United States (2002–present)\n",
    "Education\tUniversity of Pennsylvania (BS, BA)\n",
    "Title\t\n",
    "Founder, CEO and Chief Engineer of SpaceX\n",
    "CEO and product architect of Tesla, Inc.\n",
    "Founder of The Boring Company and X.com (now part of PayPal)\n",
    "Co-founder of Neuralink, OpenAI, and Zip2\n",
    "Spouse(s)\t\n",
    "Justine Wilson\n",
    "​\n",
    "​(m. 2000; div. 2008)​\n",
    "Talulah Riley\n",
    "​\n",
    "​(m. 2010; div. 2012)​\n",
    "​\n",
    "​(m. 2013; div. 2016)\n",
    "'''"
   ]
  },
  {
   "cell_type": "code",
   "execution_count": 57,
   "id": "425dd36b-44cb-4f03-a2f2-ef9946df9e5e",
   "metadata": {},
   "outputs": [
    {
     "data": {
      "text/plain": [
       "'50'"
      ]
     },
     "execution_count": 57,
     "metadata": {},
     "output_type": "execute_result"
    }
   ],
   "source": [
    "get_pattern_match('age[^\\d]*(\\d*)', text)"
   ]
  },
  {
   "cell_type": "code",
   "execution_count": 60,
   "id": "f08797a9-61a1-4b03-a925-4aa05e7fd0dd",
   "metadata": {},
   "outputs": [
    {
     "data": {
      "text/plain": [
       "'Elon Reeve Musk'"
      ]
     },
     "execution_count": 60,
     "metadata": {},
     "output_type": "execute_result"
    }
   ],
   "source": [
    "get_pattern_match('Born(.*)\\n', text).strip()"
   ]
  },
  {
   "cell_type": "code",
   "execution_count": 61,
   "id": "ac7f7b93-d216-49e3-92b1-06c10ddc6a1f",
   "metadata": {},
   "outputs": [
    {
     "data": {
      "text/plain": [
       "'June 28, 1971'"
      ]
     },
     "execution_count": 61,
     "metadata": {},
     "output_type": "execute_result"
    }
   ],
   "source": [
    "get_pattern_match('Born.*\\n(.*)\\(age', text).strip()\n"
   ]
  },
  {
   "cell_type": "code",
   "execution_count": 62,
   "id": "9cf20df7-bfa6-4686-bbab-fc6bfcd2784a",
   "metadata": {},
   "outputs": [
    {
     "data": {
      "text/plain": [
       "'Pretoria, Transvaal, South Africa'"
      ]
     },
     "execution_count": 62,
     "metadata": {},
     "output_type": "execute_result"
    }
   ],
   "source": [
    "get_pattern_match(r'\\(age.*\\n(.*)', text)"
   ]
  },
  {
   "cell_type": "code",
   "execution_count": 63,
   "id": "bef4dc18-5d97-4548-9b5b-eb66f780548b",
   "metadata": {},
   "outputs": [],
   "source": [
    "def extract_personal_information(text):\n",
    "    age = get_pattern_match('age (\\d+)', text)\n",
    "    full_name = get_pattern_match('Born(.*)\\n', text)\n",
    "    birth_date = get_pattern_match('Born.*\\n(.*)\\(age', text)\n",
    "    birth_place = get_pattern_match('\\(age.*\\n(.*)', text)\n",
    "    return {\n",
    "        'age': int(age),\n",
    "        'name': full_name.strip(),\n",
    "        'birth_date': birth_date.strip(),\n",
    "        'birth_place': birth_place.strip()\n",
    "    }"
   ]
  },
  {
   "cell_type": "code",
   "execution_count": 64,
   "id": "d8e9b198-677b-4c9f-ada3-acf5558b5213",
   "metadata": {},
   "outputs": [
    {
     "data": {
      "text/plain": [
       "{'age': 50,\n",
       " 'name': 'Elon Reeve Musk',\n",
       " 'birth_date': 'June 28, 1971',\n",
       " 'birth_place': 'Pretoria, Transvaal, South Africa'}"
      ]
     },
     "execution_count": 64,
     "metadata": {},
     "output_type": "execute_result"
    }
   ],
   "source": [
    "extract_personal_information(text)"
   ]
  },
  {
   "cell_type": "code",
   "execution_count": 65,
   "id": "3803bb3e-1e3b-4311-bae9-2db0c30a15fd",
   "metadata": {},
   "outputs": [],
   "source": [
    "text = '''\n",
    "Born\tMukesh Dhirubhai Ambani\n",
    "19 April 1957 (age 64)\n",
    "Aden, Colony of Aden\n",
    "(present-day Yemen)[1][2]\n",
    "Nationality\tIndian\n",
    "Alma mater\t\n",
    "St. Xavier's College, Mumbai\n",
    "Institute of Chemical Technology (B.E.)\n",
    "Stanford University (drop-out)\n",
    "Occupation\tChairman and MD, Reliance Industries\n",
    "Spouse(s)\tNita Ambani ​(m. 1985)​[3]\n",
    "Children\t3\n",
    "Parent(s)\t\n",
    "Dhirubhai Ambani (father)\n",
    "Kokilaben Ambani (mother)\n",
    "Relatives\tAnil Ambani (brother)\n",
    "Tina Ambani (sister-in-law)\n",
    "'''"
   ]
  },
  {
   "cell_type": "code",
   "execution_count": 66,
   "id": "105d2811-128b-46be-9bb4-a84a230b38cc",
   "metadata": {},
   "outputs": [
    {
     "data": {
      "text/plain": [
       "{'age': 64,\n",
       " 'name': 'Mukesh Dhirubhai Ambani',\n",
       " 'birth_date': '19 April 1957',\n",
       " 'birth_place': 'Aden, Colony of Aden'}"
      ]
     },
     "execution_count": 66,
     "metadata": {},
     "output_type": "execute_result"
    }
   ],
   "source": [
    "extract_personal_information(text)"
   ]
  }
 ],
 "metadata": {
  "kernelspec": {
   "display_name": "tfkernel",
   "language": "python",
   "name": "tfkernel"
  },
  "language_info": {
   "codemirror_mode": {
    "name": "ipython",
    "version": 3
   },
   "file_extension": ".py",
   "mimetype": "text/x-python",
   "name": "python",
   "nbconvert_exporter": "python",
   "pygments_lexer": "ipython3",
   "version": "3.11.5"
  }
 },
 "nbformat": 4,
 "nbformat_minor": 5
}
