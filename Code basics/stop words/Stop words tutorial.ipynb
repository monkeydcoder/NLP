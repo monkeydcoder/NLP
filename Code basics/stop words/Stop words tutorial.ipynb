{
 "cells": [
  {
   "cell_type": "markdown",
   "id": "eb310864-65fb-444f-a058-6dbc2fb1a78e",
   "metadata": {},
   "source": [
    "# Stop words tutorial\n"
   ]
  },
  {
   "cell_type": "code",
   "execution_count": 62,
   "id": "e8047d19-a770-4929-af27-a87e6118d95a",
   "metadata": {},
   "outputs": [],
   "source": [
    "import spacy\n",
    "\n",
    "from spacy.lang.en.stop_words import STOP_WORDS"
   ]
  },
  {
   "cell_type": "code",
   "execution_count": 63,
   "id": "7eb601c3-ff61-42f3-b884-f939a9df2674",
   "metadata": {},
   "outputs": [
    {
     "name": "stdout",
     "output_type": "stream",
     "text": [
      "{'nothing', 'by', 'an', 'before', 'few', 'although', 'both', 'whom', 'fifteen', 'hereby', 'either', 'serious', 'give', 'nowhere', 'what', 'ours', 'hereupon', '’s', 'until', 'it', 'whether', 'well', 'top', '‘m', 'would', 'whereupon', '’m', 'whereby', 'towards', 'only', 'many', 'why', 'around', 'noone', 'meanwhile', 'throughout', 'was', 'n’t', 'name', 'yourself', 'among', 'hereafter', 'every', 'whither', 'somehow', 'below', 'forty', 'eight', 'whose', 'across', 'be', 'to', 'upon', 'everyone', 'this', 'when', 'show', 'for', 'have', 'back', 're', 'wherein', 'whole', 'using', \"'s\", 'another', 'really', 'nine', 'sixty', '‘s', 'could', 'if', 'must', 'regarding', '’ll', 'amongst', 'seems', '‘re', 'mine', 'my', 'them', 'never', 'are', 'see', 'then', 'next', 'is', 'empty', 'each', 'those', 'cannot', '’ve', 'will', 'make', 'here', 'nevertheless', 'in', 'became', 'along', 'because', 'indeed', \"'re\", 'seeming', 'anyway', 'these', 'even', 'others', 'several', 'himself', 'herself', 'since', 'third', 'unless', 'been', 'being', 'beforehand', 'no', 'just', 'up', 'yourselves', 'formerly', 'the', 'afterwards', 'very', 'call', \"n't\", 'always', 'own', 'had', 'than', 'thereby', 'beyond', 'between', 'except', 'further', 'already', 'not', '’re', 'two', 'whence', 'least', 'such', 'yet', 'more', 'same', 'on', 'neither', 'yours', 'hence', 'otherwise', 'three', 'am', 'were', 'him', 'itself', 'me', 'often', 'thereafter', 'with', 'say', 'thru', 'against', 'our', 'whereas', 'now', 'myself', 'did', 'someone', 'i', 'fifty', 'used', 'after', 'we', 'rather', 'hundred', '‘d', \"'d\", 'perhaps', 'toward', 'who', 'anywhere', 'hers', 'wherever', 'you', 'seem', 'whatever', 'other', 'their', 'together', 'besides', 'made', 'twenty', 'via', 'may', 'elsewhere', 'she', 'anyone', 'once', 'do', \"'ve\", 'whenever', 'onto', 'less', 'keep', 'whereafter', 'but', 'should', 'ca', 'something', 'namely', 'without', 'become', 'per', 'thereupon', 'last', 'much', 'ever', 'bottom', 'your', 'though', 'n‘t', 'various', 'there', 'nor', 'becoming', 'side', 'latter', 'first', 'six', 'four', 'becomes', 'former', 'sometimes', 'anyhow', 'latterly', 'enough', 'his', 'a', 'sometime', '’d', 'of', 'thus', 'anything', 'take', 'everywhere', 'therefore', 'nobody', 'put', \"'m\", 'full', 'go', 'us', 'part', 'done', 'quite', 'out', 'ten', 'herein', 'they', 'some', 'can', 'under', 'so', 'doing', 'none', 'its', 'has', '‘ll', 'almost', 'most', 'everything', 'however', 'through', 'any', 'and', 'during', 'whoever', 'might', 'her', 'alone', 'somewhere', 'all', 'one', 'over', 'within', 'where', 'due', 'above', 'ourselves', 'or', 'move', 'as', 'moreover', 'while', 'seemed', 'he', 'behind', 'front', 'does', 'thence', 'which', 'get', 'again', 'therein', 'that', \"'ll\", 'amount', 'too', 'beside', 'off', 'how', 'eleven', 'still', 'twelve', 'themselves', 'from', '‘ve', 'about', 'mostly', 'down', 'five', 'at', 'else', 'please', 'also', 'into'}\n"
     ]
    }
   ],
   "source": [
    "print(STOP_WORDS)"
   ]
  },
  {
   "cell_type": "code",
   "execution_count": 64,
   "id": "d9d51be1-a7cd-4c50-9145-be92fb44546a",
   "metadata": {},
   "outputs": [
    {
     "data": {
      "text/plain": [
       "326"
      ]
     },
     "execution_count": 64,
     "metadata": {},
     "output_type": "execute_result"
    }
   ],
   "source": [
    "len(STOP_WORDS)"
   ]
  },
  {
   "cell_type": "code",
   "execution_count": 65,
   "id": "b2e85b21-b96f-4341-8e34-56ad2feb4e5a",
   "metadata": {},
   "outputs": [
    {
     "name": "stdout",
     "output_type": "stream",
     "text": [
      "We\n",
      "just\n",
      "our\n",
      "the\n",
      "part\n",
      "is\n"
     ]
    }
   ],
   "source": [
    "nlp = spacy.load(\"en_core_web_sm\")\n",
    "\n",
    "doc = nlp(\"We just opened our wings, the flying part is coming soon\")\n",
    "\n",
    "for token in doc:\n",
    "    if token.is_stop:\n",
    "        print(token)"
   ]
  },
  {
   "cell_type": "code",
   "execution_count": 66,
   "id": "819d1fb2-ceb2-4ec1-9416-43b1c0b9de92",
   "metadata": {},
   "outputs": [
    {
     "data": {
      "text/plain": [
       "'\\ndef preprocess1(text):\\n    doc = nlp(text)\\n    no_stop_words = []\\n    for token in doc:\\n        if not token.is_stop:\\n            no_stop_words.append(token.text)\\n    return \" \".join(no_stop_words)\\n'"
      ]
     },
     "execution_count": 66,
     "metadata": {},
     "output_type": "execute_result"
    }
   ],
   "source": [
    "def preprocess(text):\n",
    "    doc = nlp(text)\n",
    "    no_stop_words = [token.text for token in doc if not token.is_stop]\n",
    "    return \" \".join(no_stop_words)       \n",
    "\n",
    "\n",
    "# Also the above is same as \n",
    "'''\n",
    "def preprocess1(text):\n",
    "    doc = nlp(text)\n",
    "    no_stop_words = []\n",
    "    for token in doc:\n",
    "        if not token.is_stop:\n",
    "            no_stop_words.append(token.text)\n",
    "    return \" \".join(no_stop_words)\n",
    "'''"
   ]
  },
  {
   "cell_type": "code",
   "execution_count": 67,
   "id": "0dbc3273-09fb-41f1-9a94-218348035748",
   "metadata": {},
   "outputs": [
    {
     "data": {
      "text/plain": [
       "'Musk wants time prepare trial'"
      ]
     },
     "execution_count": 67,
     "metadata": {},
     "output_type": "execute_result"
    }
   ],
   "source": [
    "preprocess(\"Musk wants time to prepare for a trial over his\")"
   ]
  },
  {
   "cell_type": "code",
   "execution_count": 68,
   "id": "4ff2b2ba-d61f-45c8-af36-1ea5dd40b900",
   "metadata": {},
   "outputs": [
    {
     "data": {
      "text/plain": [
       "'divine brother'"
      ]
     },
     "execution_count": 68,
     "metadata": {},
     "output_type": "execute_result"
    }
   ],
   "source": [
    "preprocess(\"The other is not other but your divine brother\")"
   ]
  },
  {
   "cell_type": "markdown",
   "id": "85a95b63-6fc9-43e7-8766-74235a79c6ad",
   "metadata": {},
   "source": [
    "<b> Remove stop words from pandas dataframe text column </b>\n",
    "\n",
    "Dataset is downloaded from: https://www.kaggle.com/datasets/jbencina/department-of-justice-20092018-press-releases It contains press releases of different court cases from depart of justice (DOJ). The releases contain information such as outcomes of criminal cases, notable actions taken against felons, or other updates about the current administration."
   ]
  },
  {
   "cell_type": "code",
   "execution_count": 69,
   "id": "b1e33ecb-0b33-4ca2-b7ab-7c2bb8a9412e",
   "metadata": {},
   "outputs": [
    {
     "data": {
      "text/plain": [
       "(13087, 6)"
      ]
     },
     "execution_count": 69,
     "metadata": {},
     "output_type": "execute_result"
    }
   ],
   "source": [
    "import pandas as pd\n",
    "\n",
    "df = pd.read_json(\"doj_press.json\",lines=True)\n",
    "\n",
    "df.shape"
   ]
  },
  {
   "cell_type": "code",
   "execution_count": 70,
   "id": "02784519-739e-4623-bc26-2b897e9b952c",
   "metadata": {},
   "outputs": [
    {
     "data": {
      "text/html": [
       "<div>\n",
       "<style scoped>\n",
       "    .dataframe tbody tr th:only-of-type {\n",
       "        vertical-align: middle;\n",
       "    }\n",
       "\n",
       "    .dataframe tbody tr th {\n",
       "        vertical-align: top;\n",
       "    }\n",
       "\n",
       "    .dataframe thead th {\n",
       "        text-align: right;\n",
       "    }\n",
       "</style>\n",
       "<table border=\"1\" class=\"dataframe\">\n",
       "  <thead>\n",
       "    <tr style=\"text-align: right;\">\n",
       "      <th></th>\n",
       "      <th>id</th>\n",
       "      <th>title</th>\n",
       "      <th>contents</th>\n",
       "      <th>date</th>\n",
       "      <th>topics</th>\n",
       "      <th>components</th>\n",
       "    </tr>\n",
       "  </thead>\n",
       "  <tbody>\n",
       "    <tr>\n",
       "      <th>0</th>\n",
       "      <td>None</td>\n",
       "      <td>Convicted Bomb Plotter Sentenced to 30 Years</td>\n",
       "      <td>PORTLAND, Oregon. – Mohamed Osman Mohamud, 23,...</td>\n",
       "      <td>2014-10-01T00:00:00-04:00</td>\n",
       "      <td>[]</td>\n",
       "      <td>[National Security Division (NSD)]</td>\n",
       "    </tr>\n",
       "    <tr>\n",
       "      <th>1</th>\n",
       "      <td>12-919</td>\n",
       "      <td>$1 Million in Restitution Payments Announced t...</td>\n",
       "      <td>WASHINGTON – North Carolina’s Waccamaw River...</td>\n",
       "      <td>2012-07-25T00:00:00-04:00</td>\n",
       "      <td>[]</td>\n",
       "      <td>[Environment and Natural Resources Division]</td>\n",
       "    </tr>\n",
       "    <tr>\n",
       "      <th>2</th>\n",
       "      <td>11-1002</td>\n",
       "      <td>$1 Million Settlement Reached for Natural Reso...</td>\n",
       "      <td>BOSTON– A $1-million settlement has been...</td>\n",
       "      <td>2011-08-03T00:00:00-04:00</td>\n",
       "      <td>[]</td>\n",
       "      <td>[Environment and Natural Resources Division]</td>\n",
       "    </tr>\n",
       "    <tr>\n",
       "      <th>3</th>\n",
       "      <td>10-015</td>\n",
       "      <td>10 Las Vegas Men Indicted \\r\\nfor Falsifying V...</td>\n",
       "      <td>WASHINGTON—A federal grand jury in Las Vegas...</td>\n",
       "      <td>2010-01-08T00:00:00-05:00</td>\n",
       "      <td>[]</td>\n",
       "      <td>[Environment and Natural Resources Division]</td>\n",
       "    </tr>\n",
       "    <tr>\n",
       "      <th>4</th>\n",
       "      <td>18-898</td>\n",
       "      <td>$100 Million Settlement Will Speed Cleanup Wor...</td>\n",
       "      <td>The U.S. Department of Justice, the U.S. Envir...</td>\n",
       "      <td>2018-07-09T00:00:00-04:00</td>\n",
       "      <td>[Environment]</td>\n",
       "      <td>[Environment and Natural Resources Division]</td>\n",
       "    </tr>\n",
       "  </tbody>\n",
       "</table>\n",
       "</div>"
      ],
      "text/plain": [
       "        id                                              title  \\\n",
       "0     None       Convicted Bomb Plotter Sentenced to 30 Years   \n",
       "1  12-919   $1 Million in Restitution Payments Announced t...   \n",
       "2  11-1002  $1 Million Settlement Reached for Natural Reso...   \n",
       "3   10-015  10 Las Vegas Men Indicted \\r\\nfor Falsifying V...   \n",
       "4   18-898  $100 Million Settlement Will Speed Cleanup Wor...   \n",
       "\n",
       "                                            contents  \\\n",
       "0  PORTLAND, Oregon. – Mohamed Osman Mohamud, 23,...   \n",
       "1    WASHINGTON – North Carolina’s Waccamaw River...   \n",
       "2        BOSTON– A $1-million settlement has been...   \n",
       "3    WASHINGTON—A federal grand jury in Las Vegas...   \n",
       "4  The U.S. Department of Justice, the U.S. Envir...   \n",
       "\n",
       "                        date         topics  \\\n",
       "0  2014-10-01T00:00:00-04:00             []   \n",
       "1  2012-07-25T00:00:00-04:00             []   \n",
       "2  2011-08-03T00:00:00-04:00             []   \n",
       "3  2010-01-08T00:00:00-05:00             []   \n",
       "4  2018-07-09T00:00:00-04:00  [Environment]   \n",
       "\n",
       "                                     components  \n",
       "0            [National Security Division (NSD)]  \n",
       "1  [Environment and Natural Resources Division]  \n",
       "2  [Environment and Natural Resources Division]  \n",
       "3  [Environment and Natural Resources Division]  \n",
       "4  [Environment and Natural Resources Division]  "
      ]
     },
     "execution_count": 70,
     "metadata": {},
     "output_type": "execute_result"
    }
   ],
   "source": [
    "df.head()"
   ]
  },
  {
   "cell_type": "code",
   "execution_count": 71,
   "id": "f503105a-884a-4b48-a220-f607e42282f9",
   "metadata": {},
   "outputs": [
    {
     "data": {
      "text/html": [
       "<div>\n",
       "<style scoped>\n",
       "    .dataframe tbody tr th:only-of-type {\n",
       "        vertical-align: middle;\n",
       "    }\n",
       "\n",
       "    .dataframe tbody tr th {\n",
       "        vertical-align: top;\n",
       "    }\n",
       "\n",
       "    .dataframe thead th {\n",
       "        text-align: right;\n",
       "    }\n",
       "</style>\n",
       "<table border=\"1\" class=\"dataframe\">\n",
       "  <thead>\n",
       "    <tr style=\"text-align: right;\">\n",
       "      <th></th>\n",
       "      <th>id</th>\n",
       "      <th>title</th>\n",
       "      <th>contents</th>\n",
       "      <th>date</th>\n",
       "      <th>topics</th>\n",
       "      <th>components</th>\n",
       "    </tr>\n",
       "  </thead>\n",
       "  <tbody>\n",
       "    <tr>\n",
       "      <th>4</th>\n",
       "      <td>18-898</td>\n",
       "      <td>$100 Million Settlement Will Speed Cleanup Wor...</td>\n",
       "      <td>The U.S. Department of Justice, the U.S. Envir...</td>\n",
       "      <td>2018-07-09T00:00:00-04:00</td>\n",
       "      <td>[Environment]</td>\n",
       "      <td>[Environment and Natural Resources Division]</td>\n",
       "    </tr>\n",
       "    <tr>\n",
       "      <th>7</th>\n",
       "      <td>14-1412</td>\n",
       "      <td>14 Indicted in Connection with New England Com...</td>\n",
       "      <td>A 131-count criminal indictment was unsealed t...</td>\n",
       "      <td>2014-12-17T00:00:00-05:00</td>\n",
       "      <td>[Consumer Protection]</td>\n",
       "      <td>[Civil Division]</td>\n",
       "    </tr>\n",
       "    <tr>\n",
       "      <th>19</th>\n",
       "      <td>17-1419</td>\n",
       "      <td>2017 Southeast Regional Animal Cruelty Prosecu...</td>\n",
       "      <td>The United States Attorney’s Office for the Mi...</td>\n",
       "      <td>2017-12-14T00:00:00-05:00</td>\n",
       "      <td>[Environment]</td>\n",
       "      <td>[Environment and Natural Resources Division, U...</td>\n",
       "    </tr>\n",
       "    <tr>\n",
       "      <th>22</th>\n",
       "      <td>15-1562</td>\n",
       "      <td>21st Century Oncology to Pay $19.75 Million to...</td>\n",
       "      <td>21st Century Oncology LLC, has agreed to pay $...</td>\n",
       "      <td>2015-12-18T00:00:00-05:00</td>\n",
       "      <td>[False Claims Act, Health Care Fraud]</td>\n",
       "      <td>[Civil Division]</td>\n",
       "    </tr>\n",
       "    <tr>\n",
       "      <th>23</th>\n",
       "      <td>17-1404</td>\n",
       "      <td>21st Century Oncology to Pay $26 Million to Se...</td>\n",
       "      <td>21st Century Oncology Inc. and certain of its ...</td>\n",
       "      <td>2017-12-12T00:00:00-05:00</td>\n",
       "      <td>[Health Care Fraud, False Claims Act]</td>\n",
       "      <td>[Civil Division, USAO - Florida, Middle]</td>\n",
       "    </tr>\n",
       "  </tbody>\n",
       "</table>\n",
       "</div>"
      ],
      "text/plain": [
       "         id                                              title  \\\n",
       "4    18-898  $100 Million Settlement Will Speed Cleanup Wor...   \n",
       "7   14-1412  14 Indicted in Connection with New England Com...   \n",
       "19  17-1419  2017 Southeast Regional Animal Cruelty Prosecu...   \n",
       "22  15-1562  21st Century Oncology to Pay $19.75 Million to...   \n",
       "23  17-1404  21st Century Oncology to Pay $26 Million to Se...   \n",
       "\n",
       "                                             contents  \\\n",
       "4   The U.S. Department of Justice, the U.S. Envir...   \n",
       "7   A 131-count criminal indictment was unsealed t...   \n",
       "19  The United States Attorney’s Office for the Mi...   \n",
       "22  21st Century Oncology LLC, has agreed to pay $...   \n",
       "23  21st Century Oncology Inc. and certain of its ...   \n",
       "\n",
       "                         date                                 topics  \\\n",
       "4   2018-07-09T00:00:00-04:00                          [Environment]   \n",
       "7   2014-12-17T00:00:00-05:00                  [Consumer Protection]   \n",
       "19  2017-12-14T00:00:00-05:00                          [Environment]   \n",
       "22  2015-12-18T00:00:00-05:00  [False Claims Act, Health Care Fraud]   \n",
       "23  2017-12-12T00:00:00-05:00  [Health Care Fraud, False Claims Act]   \n",
       "\n",
       "                                           components  \n",
       "4        [Environment and Natural Resources Division]  \n",
       "7                                    [Civil Division]  \n",
       "19  [Environment and Natural Resources Division, U...  \n",
       "22                                   [Civil Division]  \n",
       "23           [Civil Division, USAO - Florida, Middle]  "
      ]
     },
     "execution_count": 71,
     "metadata": {},
     "output_type": "execute_result"
    }
   ],
   "source": [
    "df = df[df['topics'].str.len() != 0]\n",
    "df.head()"
   ]
  },
  {
   "cell_type": "code",
   "execution_count": 72,
   "id": "943704ad-63b5-4cfd-a4c5-27a0718fa80b",
   "metadata": {},
   "outputs": [
    {
     "data": {
      "text/plain": [
       "(4688, 6)"
      ]
     },
     "execution_count": 72,
     "metadata": {},
     "output_type": "execute_result"
    }
   ],
   "source": [
    "df.shape"
   ]
  },
  {
   "cell_type": "markdown",
   "id": "f0a00e45-e547-4886-8782-7b5a1c126baa",
   "metadata": {},
   "source": [
    "<b> Here we have removed all the data which did not contained the  topics in the dataset </b>\n",
    "\n",
    "<b> i.e from 13807 to 4688 </b>"
   ]
  },
  {
   "cell_type": "code",
   "execution_count": 73,
   "id": "82c74b6e-29de-426a-b100-e70148c26706",
   "metadata": {},
   "outputs": [
    {
     "data": {
      "text/html": [
       "<div>\n",
       "<style scoped>\n",
       "    .dataframe tbody tr th:only-of-type {\n",
       "        vertical-align: middle;\n",
       "    }\n",
       "\n",
       "    .dataframe tbody tr th {\n",
       "        vertical-align: top;\n",
       "    }\n",
       "\n",
       "    .dataframe thead th {\n",
       "        text-align: right;\n",
       "    }\n",
       "</style>\n",
       "<table border=\"1\" class=\"dataframe\">\n",
       "  <thead>\n",
       "    <tr style=\"text-align: right;\">\n",
       "      <th></th>\n",
       "      <th>id</th>\n",
       "      <th>title</th>\n",
       "      <th>contents</th>\n",
       "      <th>date</th>\n",
       "      <th>topics</th>\n",
       "      <th>components</th>\n",
       "    </tr>\n",
       "  </thead>\n",
       "  <tbody>\n",
       "    <tr>\n",
       "      <th>4</th>\n",
       "      <td>18-898</td>\n",
       "      <td>$100 Million Settlement Will Speed Cleanup Wor...</td>\n",
       "      <td>The U.S. Department of Justice, the U.S. Envir...</td>\n",
       "      <td>2018-07-09T00:00:00-04:00</td>\n",
       "      <td>[Environment]</td>\n",
       "      <td>[Environment and Natural Resources Division]</td>\n",
       "    </tr>\n",
       "    <tr>\n",
       "      <th>7</th>\n",
       "      <td>14-1412</td>\n",
       "      <td>14 Indicted in Connection with New England Com...</td>\n",
       "      <td>A 131-count criminal indictment was unsealed t...</td>\n",
       "      <td>2014-12-17T00:00:00-05:00</td>\n",
       "      <td>[Consumer Protection]</td>\n",
       "      <td>[Civil Division]</td>\n",
       "    </tr>\n",
       "    <tr>\n",
       "      <th>19</th>\n",
       "      <td>17-1419</td>\n",
       "      <td>2017 Southeast Regional Animal Cruelty Prosecu...</td>\n",
       "      <td>The United States Attorney’s Office for the Mi...</td>\n",
       "      <td>2017-12-14T00:00:00-05:00</td>\n",
       "      <td>[Environment]</td>\n",
       "      <td>[Environment and Natural Resources Division, U...</td>\n",
       "    </tr>\n",
       "    <tr>\n",
       "      <th>22</th>\n",
       "      <td>15-1562</td>\n",
       "      <td>21st Century Oncology to Pay $19.75 Million to...</td>\n",
       "      <td>21st Century Oncology LLC, has agreed to pay $...</td>\n",
       "      <td>2015-12-18T00:00:00-05:00</td>\n",
       "      <td>[False Claims Act, Health Care Fraud]</td>\n",
       "      <td>[Civil Division]</td>\n",
       "    </tr>\n",
       "    <tr>\n",
       "      <th>23</th>\n",
       "      <td>17-1404</td>\n",
       "      <td>21st Century Oncology to Pay $26 Million to Se...</td>\n",
       "      <td>21st Century Oncology Inc. and certain of its ...</td>\n",
       "      <td>2017-12-12T00:00:00-05:00</td>\n",
       "      <td>[Health Care Fraud, False Claims Act]</td>\n",
       "      <td>[Civil Division, USAO - Florida, Middle]</td>\n",
       "    </tr>\n",
       "  </tbody>\n",
       "</table>\n",
       "</div>"
      ],
      "text/plain": [
       "         id                                              title  \\\n",
       "4    18-898  $100 Million Settlement Will Speed Cleanup Wor...   \n",
       "7   14-1412  14 Indicted in Connection with New England Com...   \n",
       "19  17-1419  2017 Southeast Regional Animal Cruelty Prosecu...   \n",
       "22  15-1562  21st Century Oncology to Pay $19.75 Million to...   \n",
       "23  17-1404  21st Century Oncology to Pay $26 Million to Se...   \n",
       "\n",
       "                                             contents  \\\n",
       "4   The U.S. Department of Justice, the U.S. Envir...   \n",
       "7   A 131-count criminal indictment was unsealed t...   \n",
       "19  The United States Attorney’s Office for the Mi...   \n",
       "22  21st Century Oncology LLC, has agreed to pay $...   \n",
       "23  21st Century Oncology Inc. and certain of its ...   \n",
       "\n",
       "                         date                                 topics  \\\n",
       "4   2018-07-09T00:00:00-04:00                          [Environment]   \n",
       "7   2014-12-17T00:00:00-05:00                  [Consumer Protection]   \n",
       "19  2017-12-14T00:00:00-05:00                          [Environment]   \n",
       "22  2015-12-18T00:00:00-05:00  [False Claims Act, Health Care Fraud]   \n",
       "23  2017-12-12T00:00:00-05:00  [Health Care Fraud, False Claims Act]   \n",
       "\n",
       "                                           components  \n",
       "4        [Environment and Natural Resources Division]  \n",
       "7                                    [Civil Division]  \n",
       "19  [Environment and Natural Resources Division, U...  \n",
       "22                                   [Civil Division]  \n",
       "23           [Civil Division, USAO - Florida, Middle]  "
      ]
     },
     "execution_count": 73,
     "metadata": {},
     "output_type": "execute_result"
    }
   ],
   "source": [
    "df = df.head(100)\n",
    "df.head()"
   ]
  },
  {
   "cell_type": "code",
   "execution_count": 74,
   "id": "d01617f4-6d8b-45cc-af6b-3ebc157ac134",
   "metadata": {},
   "outputs": [
    {
     "data": {
      "text/plain": [
       "(100, 6)"
      ]
     },
     "execution_count": 74,
     "metadata": {},
     "output_type": "execute_result"
    }
   ],
   "source": [
    "df.shape"
   ]
  },
  {
   "cell_type": "code",
   "execution_count": 75,
   "id": "30d26e33-afd1-4320-9af9-59bb3538acc9",
   "metadata": {},
   "outputs": [],
   "source": [
    "df[\"contents_new\"] = df.contents.apply(preprocess)"
   ]
  },
  {
   "cell_type": "code",
   "execution_count": 76,
   "id": "81393abe-b8e7-4631-9c79-c306408d48dd",
   "metadata": {},
   "outputs": [
    {
     "data": {
      "text/html": [
       "<div>\n",
       "<style scoped>\n",
       "    .dataframe tbody tr th:only-of-type {\n",
       "        vertical-align: middle;\n",
       "    }\n",
       "\n",
       "    .dataframe tbody tr th {\n",
       "        vertical-align: top;\n",
       "    }\n",
       "\n",
       "    .dataframe thead th {\n",
       "        text-align: right;\n",
       "    }\n",
       "</style>\n",
       "<table border=\"1\" class=\"dataframe\">\n",
       "  <thead>\n",
       "    <tr style=\"text-align: right;\">\n",
       "      <th></th>\n",
       "      <th>id</th>\n",
       "      <th>title</th>\n",
       "      <th>contents</th>\n",
       "      <th>date</th>\n",
       "      <th>topics</th>\n",
       "      <th>components</th>\n",
       "      <th>contents_new</th>\n",
       "    </tr>\n",
       "  </thead>\n",
       "  <tbody>\n",
       "    <tr>\n",
       "      <th>4</th>\n",
       "      <td>18-898</td>\n",
       "      <td>$100 Million Settlement Will Speed Cleanup Wor...</td>\n",
       "      <td>The U.S. Department of Justice, the U.S. Envir...</td>\n",
       "      <td>2018-07-09T00:00:00-04:00</td>\n",
       "      <td>[Environment]</td>\n",
       "      <td>[Environment and Natural Resources Division]</td>\n",
       "      <td>U.S. Department Justice , U.S. Environmental P...</td>\n",
       "    </tr>\n",
       "    <tr>\n",
       "      <th>7</th>\n",
       "      <td>14-1412</td>\n",
       "      <td>14 Indicted in Connection with New England Com...</td>\n",
       "      <td>A 131-count criminal indictment was unsealed t...</td>\n",
       "      <td>2014-12-17T00:00:00-05:00</td>\n",
       "      <td>[Consumer Protection]</td>\n",
       "      <td>[Civil Division]</td>\n",
       "      <td>131 - count criminal indictment unsealed today...</td>\n",
       "    </tr>\n",
       "    <tr>\n",
       "      <th>19</th>\n",
       "      <td>17-1419</td>\n",
       "      <td>2017 Southeast Regional Animal Cruelty Prosecu...</td>\n",
       "      <td>The United States Attorney’s Office for the Mi...</td>\n",
       "      <td>2017-12-14T00:00:00-05:00</td>\n",
       "      <td>[Environment]</td>\n",
       "      <td>[Environment and Natural Resources Division, U...</td>\n",
       "      <td>United States Attorney Office Middle District ...</td>\n",
       "    </tr>\n",
       "    <tr>\n",
       "      <th>22</th>\n",
       "      <td>15-1562</td>\n",
       "      <td>21st Century Oncology to Pay $19.75 Million to...</td>\n",
       "      <td>21st Century Oncology LLC, has agreed to pay $...</td>\n",
       "      <td>2015-12-18T00:00:00-05:00</td>\n",
       "      <td>[False Claims Act, Health Care Fraud]</td>\n",
       "      <td>[Civil Division]</td>\n",
       "      <td>21st Century Oncology LLC , agreed pay $ 19.75...</td>\n",
       "    </tr>\n",
       "    <tr>\n",
       "      <th>23</th>\n",
       "      <td>17-1404</td>\n",
       "      <td>21st Century Oncology to Pay $26 Million to Se...</td>\n",
       "      <td>21st Century Oncology Inc. and certain of its ...</td>\n",
       "      <td>2017-12-12T00:00:00-05:00</td>\n",
       "      <td>[Health Care Fraud, False Claims Act]</td>\n",
       "      <td>[Civil Division, USAO - Florida, Middle]</td>\n",
       "      <td>21st Century Oncology Inc. certain subsidiarie...</td>\n",
       "    </tr>\n",
       "    <tr>\n",
       "      <th>...</th>\n",
       "      <td>...</td>\n",
       "      <td>...</td>\n",
       "      <td>...</td>\n",
       "      <td>...</td>\n",
       "      <td>...</td>\n",
       "      <td>...</td>\n",
       "      <td>...</td>\n",
       "    </tr>\n",
       "    <tr>\n",
       "      <th>316</th>\n",
       "      <td>15-1359</td>\n",
       "      <td>Alaska Plastic Surgeon Convicted of Wire Fraud...</td>\n",
       "      <td>Doctor Hid Millions in Secret Accounts in Pana...</td>\n",
       "      <td>2015-11-04T00:00:00-05:00</td>\n",
       "      <td>[Tax]</td>\n",
       "      <td>[Tax Division]</td>\n",
       "      <td>Doctor Hid Millions Secret Accounts Panama Ala...</td>\n",
       "    </tr>\n",
       "    <tr>\n",
       "      <th>318</th>\n",
       "      <td>16-396</td>\n",
       "      <td>Alaska Plastic Surgeon Sentenced to Prison for...</td>\n",
       "      <td>Defendant Concealed Bank Accounts in Panama an...</td>\n",
       "      <td>2016-04-04T00:00:00-04:00</td>\n",
       "      <td>[Tax]</td>\n",
       "      <td>[Tax Division]</td>\n",
       "      <td>Defendant Concealed Bank Accounts Panama Costa...</td>\n",
       "    </tr>\n",
       "    <tr>\n",
       "      <th>321</th>\n",
       "      <td>17-736</td>\n",
       "      <td>Alaskan Commercial Fishing Couple Charged with...</td>\n",
       "      <td>An Alaskan couple was charged in federal court...</td>\n",
       "      <td>2017-07-26T00:00:00-04:00</td>\n",
       "      <td>[Tax]</td>\n",
       "      <td>[Tax Division, USAO - Alaska]</td>\n",
       "      <td>Alaskan couple charged federal court Juneau , ...</td>\n",
       "    </tr>\n",
       "    <tr>\n",
       "      <th>322</th>\n",
       "      <td>18-717</td>\n",
       "      <td>Alaskan Husband And Wife Plead Guilty To Willf...</td>\n",
       "      <td>A husband and wife pleaded guilty yesterday to...</td>\n",
       "      <td>2018-06-01T00:00:00-04:00</td>\n",
       "      <td>[Tax]</td>\n",
       "      <td>[Tax Division]</td>\n",
       "      <td>husband wife pleaded guilty yesterday counts w...</td>\n",
       "    </tr>\n",
       "    <tr>\n",
       "      <th>324</th>\n",
       "      <td>16-1345</td>\n",
       "      <td>Alaskan Oncologist Indicted for Tax Evasion</td>\n",
       "      <td>A resident of Big Lake, Alaska was indicted on...</td>\n",
       "      <td>2016-11-17T00:00:00-05:00</td>\n",
       "      <td>[Tax]</td>\n",
       "      <td>[Tax Division]</td>\n",
       "      <td>resident Big Lake , Alaska indicted counts tax...</td>\n",
       "    </tr>\n",
       "  </tbody>\n",
       "</table>\n",
       "<p>100 rows × 7 columns</p>\n",
       "</div>"
      ],
      "text/plain": [
       "          id                                              title  \\\n",
       "4     18-898  $100 Million Settlement Will Speed Cleanup Wor...   \n",
       "7    14-1412  14 Indicted in Connection with New England Com...   \n",
       "19   17-1419  2017 Southeast Regional Animal Cruelty Prosecu...   \n",
       "22   15-1562  21st Century Oncology to Pay $19.75 Million to...   \n",
       "23   17-1404  21st Century Oncology to Pay $26 Million to Se...   \n",
       "..       ...                                                ...   \n",
       "316  15-1359  Alaska Plastic Surgeon Convicted of Wire Fraud...   \n",
       "318   16-396  Alaska Plastic Surgeon Sentenced to Prison for...   \n",
       "321   17-736  Alaskan Commercial Fishing Couple Charged with...   \n",
       "322   18-717  Alaskan Husband And Wife Plead Guilty To Willf...   \n",
       "324  16-1345        Alaskan Oncologist Indicted for Tax Evasion   \n",
       "\n",
       "                                              contents  \\\n",
       "4    The U.S. Department of Justice, the U.S. Envir...   \n",
       "7    A 131-count criminal indictment was unsealed t...   \n",
       "19   The United States Attorney’s Office for the Mi...   \n",
       "22   21st Century Oncology LLC, has agreed to pay $...   \n",
       "23   21st Century Oncology Inc. and certain of its ...   \n",
       "..                                                 ...   \n",
       "316  Doctor Hid Millions in Secret Accounts in Pana...   \n",
       "318  Defendant Concealed Bank Accounts in Panama an...   \n",
       "321  An Alaskan couple was charged in federal court...   \n",
       "322  A husband and wife pleaded guilty yesterday to...   \n",
       "324  A resident of Big Lake, Alaska was indicted on...   \n",
       "\n",
       "                          date                                 topics  \\\n",
       "4    2018-07-09T00:00:00-04:00                          [Environment]   \n",
       "7    2014-12-17T00:00:00-05:00                  [Consumer Protection]   \n",
       "19   2017-12-14T00:00:00-05:00                          [Environment]   \n",
       "22   2015-12-18T00:00:00-05:00  [False Claims Act, Health Care Fraud]   \n",
       "23   2017-12-12T00:00:00-05:00  [Health Care Fraud, False Claims Act]   \n",
       "..                         ...                                    ...   \n",
       "316  2015-11-04T00:00:00-05:00                                  [Tax]   \n",
       "318  2016-04-04T00:00:00-04:00                                  [Tax]   \n",
       "321  2017-07-26T00:00:00-04:00                                  [Tax]   \n",
       "322  2018-06-01T00:00:00-04:00                                  [Tax]   \n",
       "324  2016-11-17T00:00:00-05:00                                  [Tax]   \n",
       "\n",
       "                                            components  \\\n",
       "4         [Environment and Natural Resources Division]   \n",
       "7                                     [Civil Division]   \n",
       "19   [Environment and Natural Resources Division, U...   \n",
       "22                                    [Civil Division]   \n",
       "23            [Civil Division, USAO - Florida, Middle]   \n",
       "..                                                 ...   \n",
       "316                                     [Tax Division]   \n",
       "318                                     [Tax Division]   \n",
       "321                      [Tax Division, USAO - Alaska]   \n",
       "322                                     [Tax Division]   \n",
       "324                                     [Tax Division]   \n",
       "\n",
       "                                          contents_new  \n",
       "4    U.S. Department Justice , U.S. Environmental P...  \n",
       "7    131 - count criminal indictment unsealed today...  \n",
       "19   United States Attorney Office Middle District ...  \n",
       "22   21st Century Oncology LLC , agreed pay $ 19.75...  \n",
       "23   21st Century Oncology Inc. certain subsidiarie...  \n",
       "..                                                 ...  \n",
       "316  Doctor Hid Millions Secret Accounts Panama Ala...  \n",
       "318  Defendant Concealed Bank Accounts Panama Costa...  \n",
       "321  Alaskan couple charged federal court Juneau , ...  \n",
       "322  husband wife pleaded guilty yesterday counts w...  \n",
       "324  resident Big Lake , Alaska indicted counts tax...  \n",
       "\n",
       "[100 rows x 7 columns]"
      ]
     },
     "execution_count": 76,
     "metadata": {},
     "output_type": "execute_result"
    }
   ],
   "source": [
    "df"
   ]
  },
  {
   "cell_type": "code",
   "execution_count": 77,
   "id": "248dcfd0-cb32-4df4-b08b-83dc51a5bd4a",
   "metadata": {},
   "outputs": [
    {
     "data": {
      "text/plain": [
       "6286"
      ]
     },
     "execution_count": 77,
     "metadata": {},
     "output_type": "execute_result"
    }
   ],
   "source": [
    "len(df.contents[4])"
   ]
  },
  {
   "cell_type": "code",
   "execution_count": 78,
   "id": "cf59d1c8-adc4-4c05-9985-1e826ddcc354",
   "metadata": {},
   "outputs": [
    {
     "data": {
      "text/plain": [
       "4810"
      ]
     },
     "execution_count": 78,
     "metadata": {},
     "output_type": "execute_result"
    }
   ],
   "source": [
    "len(df.contents_new[4])"
   ]
  },
  {
   "cell_type": "code",
   "execution_count": 79,
   "id": "7c10b81d-d182-4d35-9e9b-e49f4165772d",
   "metadata": {},
   "outputs": [
    {
     "data": {
      "text/plain": [
       "'The U.S. Department of Justice, the U.S. Environmental Protection Agency (EPA), and the Rhode Island Department of Environmental Management (RIDEM) announced today that two subsidiaries of Stanley Black & Decker Inc.—Emhart Industries Inc. and Black & Decker Inc.—have agreed to clean up dioxin conta'"
      ]
     },
     "execution_count": 79,
     "metadata": {},
     "output_type": "execute_result"
    }
   ],
   "source": [
    "df.contents[4][:300]"
   ]
  },
  {
   "cell_type": "code",
   "execution_count": 80,
   "id": "3f3ca11a-4ab3-4d68-aef3-cb34c1ceb072",
   "metadata": {},
   "outputs": [
    {
     "data": {
      "text/plain": [
       "'U.S. Department Justice , U.S. Environmental Protection Agency ( EPA ) , Rhode Island Department Environmental Management ( RIDEM ) announced today subsidiaries Stanley Black & Decker Inc.—Emhart Industries Inc. Black & Decker Inc.—have agreed clean dioxin contaminated sediment soil Centredale Manor'"
      ]
     },
     "execution_count": 80,
     "metadata": {},
     "output_type": "execute_result"
    }
   ],
   "source": [
    "df.contents_new[4][:300]"
   ]
  },
  {
   "cell_type": "code",
   "execution_count": 81,
   "id": "45655c0c-2fcf-4379-899f-683f555a6402",
   "metadata": {},
   "outputs": [
    {
     "name": "stdout",
     "output_type": "stream",
     "text": [
      "76.51924912503976\n"
     ]
    }
   ],
   "source": [
    "print((len(df.contents_new[4])/len(df.contents[4]))*100)"
   ]
  },
  {
   "cell_type": "markdown",
   "id": "062064c9-2b2a-4f04-a3b0-2d4ab776b5aa",
   "metadata": {},
   "source": [
    "Here we can see that the new content is 24 less then the original content "
   ]
  },
  {
   "cell_type": "markdown",
   "id": "b7afd457-b514-4d5e-bef5-d1eaf3f1cfae",
   "metadata": {},
   "source": [
    "# Examples where removing stop words can create a problem\n"
   ]
  },
  {
   "cell_type": "markdown",
   "id": "fbde6e89-9827-4210-ba11-50b19b4c2104",
   "metadata": {},
   "source": [
    "<b> (1) Sentiment detection: Not always but in some cases, based on your dataset it can change the sentiment of a sentence if you remove stop words </b>"
   ]
  },
  {
   "cell_type": "code",
   "execution_count": 82,
   "id": "3e4a168c-495e-4cf0-83eb-2c5605e8db31",
   "metadata": {},
   "outputs": [
    {
     "data": {
      "text/plain": [
       "'good movie'"
      ]
     },
     "execution_count": 82,
     "metadata": {},
     "output_type": "execute_result"
    }
   ],
   "source": [
    "preprocess(\"this is a good movie\")"
   ]
  },
  {
   "cell_type": "code",
   "execution_count": 83,
   "id": "c5d85221-ba6d-4b6f-b390-0f756af4ecd5",
   "metadata": {},
   "outputs": [
    {
     "data": {
      "text/plain": [
       "'good movie'"
      ]
     },
     "execution_count": 83,
     "metadata": {},
     "output_type": "execute_result"
    }
   ],
   "source": [
    "preprocess(\"this is not a good movie\")"
   ]
  },
  {
   "cell_type": "markdown",
   "id": "1f0822b7-4d2c-49c2-b064-837e96128348",
   "metadata": {},
   "source": [
    "<b> \n",
    "(2) Language translation: Say you want to translate following sentence from english to telugu. Before actual translation if you remove stop words and then translate, it will produce horrible result</b>"
   ]
  },
  {
   "cell_type": "code",
   "execution_count": 84,
   "id": "f96e8f7f-f6ab-45a7-99bc-a86a0cc074e7",
   "metadata": {},
   "outputs": [
    {
     "data": {
      "text/plain": [
       "'Nami ?'"
      ]
     },
     "execution_count": 84,
     "metadata": {},
     "output_type": "execute_result"
    }
   ],
   "source": [
    "preprocess(\"how are you doing Nami?\")"
   ]
  },
  {
   "cell_type": "markdown",
   "id": "bef77f09-4ac3-4822-8a38-05c97ba37263",
   "metadata": {},
   "source": [
    "<b> (3) Chat bot or any Q&A system </b>"
   ]
  },
  {
   "cell_type": "code",
   "execution_count": 85,
   "id": "1c863d97-49d3-468e-951a-e314cfa18534",
   "metadata": {},
   "outputs": [
    {
     "data": {
      "text/plain": [
       "'find yoga mat website . help ?'"
      ]
     },
     "execution_count": 85,
     "metadata": {},
     "output_type": "execute_result"
    }
   ],
   "source": [
    "preprocess(\"I don't find yoga mat on your website. Can you help?\")"
   ]
  }
 ],
 "metadata": {
  "kernelspec": {
   "display_name": "tfkernel",
   "language": "python",
   "name": "tfkernel"
  },
  "language_info": {
   "codemirror_mode": {
    "name": "ipython",
    "version": 3
   },
   "file_extension": ".py",
   "mimetype": "text/x-python",
   "name": "python",
   "nbconvert_exporter": "python",
   "pygments_lexer": "ipython3",
   "version": "3.11.5"
  }
 },
 "nbformat": 4,
 "nbformat_minor": 5
}
