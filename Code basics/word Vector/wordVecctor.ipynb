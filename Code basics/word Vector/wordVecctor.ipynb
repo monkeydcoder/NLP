{
 "cells": [
  {
   "cell_type": "code",
   "execution_count": 1,
   "id": "0c808fc6-83d3-49ca-bb93-477e469c3601",
   "metadata": {},
   "outputs": [],
   "source": [
    "import spacy\n",
    "\n",
    "# word vectors occupy lot of space. hence en_core_web_sm model do not have them included. \n",
    "# In order to download\n",
    "# word vectors you need to install large or medium english model. We will install the large one!\n",
    "# make sure you have run \"python -m spacy download en_core_web_lg\" to install large english model\n",
    "nlp = spacy.load(\"en_core_web_lg\")"
   ]
  },
  {
   "cell_type": "code",
   "execution_count": 15,
   "id": "60cf9cf3-eae3-43df-aac1-81ee1043e4b9",
   "metadata": {},
   "outputs": [
    {
     "name": "stdout",
     "output_type": "stream",
     "text": [
      "dog Vector :  True , Out of vocabulary :  False\n",
      "cat Vector :  True , Out of vocabulary :  False\n",
      "banana Vector :  True , Out of vocabulary :  False\n",
      "kem Vector :  False , Out of vocabulary :  True\n"
     ]
    }
   ],
   "source": [
    "doc = nlp(\"dog cat banana kem\")\n",
    "\n",
    "for token in doc:\n",
    "    print(token.text, \"Vector : \", token.has_vector, \", Out of vocabulary : \", token.is_oov)"
   ]
  },
  {
   "cell_type": "code",
   "execution_count": 20,
   "id": "a01a567e-8694-48da-a943-48a096221a86",
   "metadata": {},
   "outputs": [
    {
     "data": {
      "text/plain": [
       "(300,)"
      ]
     },
     "execution_count": 20,
     "metadata": {},
     "output_type": "execute_result"
    }
   ],
   "source": [
    "doc[0].vector.shape"
   ]
  },
  {
   "cell_type": "code",
   "execution_count": 21,
   "id": "1569f2b2-dbbd-4564-80ec-5de10f578f3a",
   "metadata": {},
   "outputs": [
    {
     "data": {
      "text/plain": [
       "(300,)"
      ]
     },
     "execution_count": 21,
     "metadata": {},
     "output_type": "execute_result"
    }
   ],
   "source": [
    "base_token = nlp(\"bread\")\n",
    "base_token.vector.shape"
   ]
  },
  {
   "cell_type": "code",
   "execution_count": 22,
   "id": "beb39551-6bf7-4f9a-b370-6d0ab76ab425",
   "metadata": {},
   "outputs": [
    {
     "name": "stdout",
     "output_type": "stream",
     "text": [
      "bread <-> bread: 1.0000000681995158\n",
      "sandwich <-> bread: 0.6341067417450952\n",
      "burger <-> bread: 0.47520687769584247\n",
      "car <-> bread: 0.06451532596945217\n",
      "tiger <-> bread: 0.04764612079317772\n",
      "human <-> bread: 0.2151154210812192\n",
      "wheat <-> bread: 0.615036141030184\n"
     ]
    }
   ],
   "source": [
    "doc = nlp(\"bread sandwich burger car tiger human wheat\")\n",
    "\n",
    "for token in doc:\n",
    "    print(f\"{token.text} <-> {base_token.text}:\", token.similarity(base_token))"
   ]
  },
  {
   "cell_type": "code",
   "execution_count": 29,
   "id": "1e4e0c43-d0e5-4439-8c74-149dac5ce256",
   "metadata": {},
   "outputs": [
    {
     "name": "stdout",
     "output_type": "stream",
     "text": [
      "Lee <--> Naruto: -0.031207492729277943\n",
      "Guy <--> Naruto: 0.07498834099946865\n",
      "Gaara <--> Naruto: 0.6078217113786216\n",
      "Hinata <--> Naruto: 0.5995691966014622\n",
      "Sakura <--> Naruto: 0.7116691288239683\n",
      "Kakashi <--> Naruto: 0.6815041324966612\n",
      "Naruto <--> Naruto: 0.9999999628773092\n",
      "Iruka <--> Naruto: 0.5493015951216635\n",
      "Sasuke <--> Naruto: 0.8054578404602226\n",
      "Itachi <--> Naruto: 0.5625754305814314\n",
      "Shikamaru <--> Naruto: 0.5379541700689966\n",
      "Shino <--> Naruto: 0.5667605885674356\n",
      "Neji <--> Naruto: 0.6709203505115122\n",
      "kiba <--> Naruto: 0.0\n",
      "inuzuka <--> Naruto: 0.0\n"
     ]
    },
    {
     "name": "stderr",
     "output_type": "stream",
     "text": [
      "/var/folders/ss/_ttcy1x90d31zv4gw2vwstq00000gn/T/ipykernel_3318/239938636.py:5: UserWarning: [W008] Evaluating Token.similarity based on empty vectors.\n",
      "  print(f\"{token.text} <--> {base_token.text}:\", token.similarity(base_token))\n"
     ]
    }
   ],
   "source": [
    "doc = nlp(\"Lee Guy Gaara Hinata Sakura Kakashi Naruto Iruka Sasuke Itachi Shikamaru Shino Neji kiba inuzuka \")\n",
    "base_token = nlp(\"Naruto\")\n",
    "\n",
    "for token in doc:\n",
    "    print(f\"{token.text} <--> {base_token.text}:\", token.similarity(base_token))"
   ]
  },
  {
   "cell_type": "code",
   "execution_count": 35,
   "id": "d8d42289-ec14-43b8-96cf-3810e160157e",
   "metadata": {},
   "outputs": [],
   "source": [
    "def print_similarity(base_word, words_to_compare):\n",
    "    base_token = nlp(base_word)\n",
    "    doc = nlp(words_to_compare)\n",
    "    for token in doc:\n",
    "        print(f\"{token.text} <-> {base_token.text}: \", token.similarity(base_token))"
   ]
  },
  {
   "cell_type": "code",
   "execution_count": 36,
   "id": "7adfeea0-a8e1-4611-9124-f6962df7b87f",
   "metadata": {},
   "outputs": [
    {
     "name": "stdout",
     "output_type": "stream",
     "text": [
      "apple <-> iphone:  0.4387907401919904\n",
      "samsung <-> iphone:  0.6708590303423401\n",
      "iphone <-> iphone:  0.9999999983096304\n",
      "dog <-> iphone:  0.08211864726684225\n",
      "kitten <-> iphone:  0.10222319084362265\n"
     ]
    }
   ],
   "source": [
    "print_similarity(\"iphone\", \"apple samsung iphone dog kitten\")"
   ]
  },
  {
   "cell_type": "code",
   "execution_count": 37,
   "id": "48af44fb-8608-4692-90e0-4e7612b4e25d",
   "metadata": {},
   "outputs": [],
   "source": [
    "king = nlp.vocab[\"king\"].vector\n",
    "man = nlp.vocab[\"man\"].vector\n",
    "woman = nlp.vocab[\"woman\"].vector\n",
    "queen = nlp.vocab[\"queen\"].vector\n",
    "\n",
    "result = king - man + woman"
   ]
  },
  {
   "cell_type": "code",
   "execution_count": 38,
   "id": "a92eb394-bd99-47b7-b461-a4097533337d",
   "metadata": {},
   "outputs": [
    {
     "data": {
      "text/plain": [
       "array([[0.6178014]], dtype=float32)"
      ]
     },
     "execution_count": 38,
     "metadata": {},
     "output_type": "execute_result"
    }
   ],
   "source": [
    "from sklearn.metrics.pairwise import cosine_similarity\n",
    "\n",
    "cosine_similarity([result], [queen])"
   ]
  }
 ],
 "metadata": {
  "kernelspec": {
   "display_name": "tfkernel",
   "language": "python",
   "name": "tfkernel"
  },
  "language_info": {
   "codemirror_mode": {
    "name": "ipython",
    "version": 3
   },
   "file_extension": ".py",
   "mimetype": "text/x-python",
   "name": "python",
   "nbconvert_exporter": "python",
   "pygments_lexer": "ipython3",
   "version": "3.11.5"
  }
 },
 "nbformat": 4,
 "nbformat_minor": 5
}
